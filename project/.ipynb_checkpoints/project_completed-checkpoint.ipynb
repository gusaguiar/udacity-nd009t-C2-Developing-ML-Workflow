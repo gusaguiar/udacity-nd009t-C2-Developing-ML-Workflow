{
 "cells": [
  {
   "cell_type": "markdown",
   "metadata": {},
   "source": [
    "# Deploy and monitor a machine learning workflow for Image Classification"
   ]
  },
  {
   "cell_type": "markdown",
   "metadata": {},
   "source": [
    "## Setting up this notebook\n",
    "\n",
    "Notes about the instance size and kernel setup: this notebook has been tested on\n",
    "\n",
    "1. The `Python 3 (Data Science)` kernel\n",
    "2. The `ml.t3.medium` instance\n",
    "\n",
    "## Data Staging\n",
    "\n",
    "We'll use a sample dataset called CIFAR to simulate the challenges Scones Unlimited are facing in Image Classification. In order to start working with CIFAR we'll need to:\n",
    "\n",
    "1. Extract the data from a hosting service\n",
    "2. Transform it into a usable shape and format\n",
    "3. Load it into a production system\n",
    "\n",
    "In other words, we're going to do some simple ETL!\n",
    "\n",
    "### 1. Extract the data from the hosting service\n",
    "\n",
    "In the cell below, define a function `extract_cifar_data` that extracts python version of the CIFAR-100 dataset. The CIFAR dataaset is open source and generously hosted by the University of Toronto at: https://www.cs.toronto.edu/~kriz/cifar-100-python.tar.gz "
   ]
  },
  {
   "cell_type": "code",
   "execution_count": 2,
   "metadata": {
    "tags": []
   },
   "outputs": [],
   "source": [
    "import requests\n",
    "\n",
    "def extract_cifar_data(url, filename=\"cifar.tar.gz\"):\n",
    "    \"\"\"A function for extracting the CIFAR-100 dataset and storing it as a gzipped file\n",
    "    \n",
    "    Arguments:\n",
    "    url      -- the URL where the dataset is hosted\n",
    "    filename -- the full path where the dataset will be written\n",
    "    \n",
    "    \"\"\"\n",
    "    \n",
    "    # request the data from the data url\n",
    "    r = requests.get(url)\n",
    "    with open(filename, \"wb\") as file_context:\n",
    "        file_context.write(r.content)\n",
    "    return"
   ]
  },
  {
   "cell_type": "markdown",
   "metadata": {},
   "source": [
    "Let's test it out! Run the following cell and check whether a new file `cifar.tar.gz` is created in the file explorer."
   ]
  },
  {
   "cell_type": "code",
   "execution_count": 3,
   "metadata": {
    "tags": []
   },
   "outputs": [],
   "source": [
    "extract_cifar_data(\"https://www.cs.toronto.edu/~kriz/cifar-100-python.tar.gz\")     "
   ]
  },
  {
   "cell_type": "markdown",
   "metadata": {},
   "source": [
    "### 2. Transform the data into a usable shape and format\n",
    "\n",
    "Clearly, distributing the data as a gzipped archive makes sense for the hosting service! It saves on bandwidth, storage, and it's a widely-used archive format. In fact, it's so widely used that the Python community ships a utility for working with them, `tarfile`, as part of its Standard Library. Execute the following cell to decompress your extracted dataset:"
   ]
  },
  {
   "cell_type": "code",
   "execution_count": 7,
   "metadata": {
    "tags": []
   },
   "outputs": [],
   "source": [
    "import tarfile\n",
    "\n",
    "with tarfile.open(\"cifar.tar.gz\", \"r:gz\") as tar:\n",
    "    tar.extractall()"
   ]
  },
  {
   "cell_type": "markdown",
   "metadata": {},
   "source": [
    "A new folder `cifar-100-python` should be created, containing `meta`, `test`, and `train` files. These files are `pickles` and the [CIFAR homepage](https://www.cs.toronto.edu/~kriz/cifar.html) provides a simple script that can be used to load them. We've adapted the script below for you to run:"
   ]
  },
  {
   "cell_type": "code",
   "execution_count": 8,
   "metadata": {
    "tags": []
   },
   "outputs": [],
   "source": [
    "import pickle\n",
    "\n",
    "with open(\"./cifar-100-python/meta\", \"rb\") as f:\n",
    "    dataset_meta = pickle.load(f, encoding='bytes')\n",
    "\n",
    "with open(\"./cifar-100-python/test\", \"rb\") as f:\n",
    "    dataset_test = pickle.load(f, encoding='bytes')\n",
    "\n",
    "with open(\"./cifar-100-python/train\", \"rb\") as f:\n",
    "    dataset_train = pickle.load(f, encoding='bytes')"
   ]
  },
  {
   "cell_type": "code",
   "execution_count": 9,
   "metadata": {
    "tags": []
   },
   "outputs": [
    {
     "data": {
      "text/plain": [
       "dict_keys([b'filenames', b'batch_label', b'fine_labels', b'coarse_labels', b'data'])"
      ]
     },
     "execution_count": 9,
     "metadata": {},
     "output_type": "execute_result"
    }
   ],
   "source": [
    "# Feel free to explore the datasets\n",
    "\n",
    "dataset_train.keys()"
   ]
  },
  {
   "cell_type": "code",
   "execution_count": 7,
   "metadata": {
    "tags": []
   },
   "outputs": [
    {
     "data": {
      "text/plain": [
       "dict_keys([b'fine_label_names', b'coarse_label_names'])"
      ]
     },
     "execution_count": 7,
     "metadata": {},
     "output_type": "execute_result"
    }
   ],
   "source": [
    "# check keys of the dataset metadata\n",
    "# fine lables represent class/category and coarse label represents super class/category as per the dataset homepage\n",
    "dataset_meta.keys()"
   ]
  },
  {
   "cell_type": "code",
   "execution_count": 8,
   "metadata": {
    "tags": []
   },
   "outputs": [
    {
     "data": {
      "text/plain": [
       "dict_keys([b'filenames', b'batch_label', b'fine_labels', b'coarse_labels', b'data'])"
      ]
     },
     "execution_count": 8,
     "metadata": {},
     "output_type": "execute_result"
    }
   ],
   "source": [
    "dataset_test.keys()"
   ]
  },
  {
   "cell_type": "markdown",
   "metadata": {},
   "source": [
    "As documented on the homepage, `b'data'` contains rows of 3073 unsigned integers, representing three channels (red, green, and blue) for one 32x32 pixel image per row."
   ]
  },
  {
   "cell_type": "code",
   "execution_count": 9,
   "metadata": {
    "tags": []
   },
   "outputs": [
    {
     "data": {
      "text/plain": [
       "3072"
      ]
     },
     "execution_count": 9,
     "metadata": {},
     "output_type": "execute_result"
    }
   ],
   "source": [
    "32*32*3"
   ]
  },
  {
   "cell_type": "markdown",
   "metadata": {},
   "source": [
    "For a simple gut-check, let's transform one of our images. Each 1024 items in a row is a channel (red, green, then blue). Each 32 items in the channel are a row in the 32x32 image. Using python, we can stack these channels into a 32x32x3 array, and save it as a PNG file:"
   ]
  },
  {
   "cell_type": "code",
   "execution_count": 10,
   "metadata": {
    "tags": []
   },
   "outputs": [],
   "source": [
    "import numpy as np\n",
    "\n",
    "# Each 1024 in a row is a channel (red, green, then blue)\n",
    "row = dataset_train[b'data'][0]\n",
    "red, green, blue = row[0:1024], row[1024:2048], row[2048:]\n",
    "\n",
    "# Each 32 items in the channel are a row in the 32x32 image\n",
    "red = red.reshape(32,32)\n",
    "green = green.reshape(32,32)\n",
    "blue = blue.reshape(32,32)\n",
    "\n",
    "# Combine the channels into a 32x32x3 image!\n",
    "combined = np.dstack((red,green,blue))"
   ]
  },
  {
   "cell_type": "markdown",
   "metadata": {},
   "source": [
    "For a more concise version, consider the following:"
   ]
  },
  {
   "cell_type": "code",
   "execution_count": 11,
   "metadata": {
    "tags": []
   },
   "outputs": [],
   "source": [
    "# All in one:\n",
    "test_image = np.dstack((\n",
    "    row[0:1024].reshape(32,32),\n",
    "    row[1024:2048].reshape(32,32),\n",
    "    row[2048:].reshape(32,32)\n",
    "))"
   ]
  },
  {
   "cell_type": "code",
   "execution_count": 12,
   "metadata": {
    "tags": []
   },
   "outputs": [],
   "source": [
    "import matplotlib.pyplot as plt\n",
    "plt.imshow(test_image);"
   ]
  },
  {
   "cell_type": "markdown",
   "metadata": {},
   "source": [
    "Looks like a cow! Let's check the label. `dataset_meta` contains label names in order, and `dataset_train` has a list of labels for each row."
   ]
  },
  {
   "cell_type": "code",
   "execution_count": 13,
   "metadata": {
    "tags": []
   },
   "outputs": [
    {
     "data": {
      "text/plain": [
       "19"
      ]
     },
     "execution_count": 13,
     "metadata": {},
     "output_type": "execute_result"
    }
   ],
   "source": [
    "dataset_train[b'fine_labels'][0]"
   ]
  },
  {
   "cell_type": "markdown",
   "metadata": {},
   "source": [
    "Our image has a label of `19`, so let's see what the 19th item is in the list of label names."
   ]
  },
  {
   "cell_type": "code",
   "execution_count": 14,
   "metadata": {
    "tags": []
   },
   "outputs": [
    {
     "name": "stdout",
     "output_type": "stream",
     "text": [
      "b'cattle'\n"
     ]
    }
   ],
   "source": [
    "print(dataset_meta[b'fine_label_names'][19])"
   ]
  },
  {
   "cell_type": "markdown",
   "metadata": {},
   "source": [
    "Ok! 'cattle' sounds about right. By the way, using the previous two lines we can do:"
   ]
  },
  {
   "cell_type": "code",
   "execution_count": 15,
   "metadata": {
    "tags": []
   },
   "outputs": [
    {
     "name": "stdout",
     "output_type": "stream",
     "text": [
      "b'cattle'\n"
     ]
    }
   ],
   "source": [
    "n = 0\n",
    "print(dataset_meta[b'fine_label_names'][dataset_train[b'fine_labels'][n]])"
   ]
  },
  {
   "cell_type": "markdown",
   "metadata": {},
   "source": [
    "Now we know how to check labels, is there a way that we can also check file names? `dataset_train` also contains a `b'filenames'` key. Let's see what we have here:"
   ]
  },
  {
   "cell_type": "code",
   "execution_count": 16,
   "metadata": {
    "tags": []
   },
   "outputs": [
    {
     "name": "stdout",
     "output_type": "stream",
     "text": [
      "b'bos_taurus_s_000507.png'\n"
     ]
    }
   ],
   "source": [
    "print(dataset_train[b'filenames'][0])"
   ]
  },
  {
   "cell_type": "markdown",
   "metadata": {},
   "source": [
    "\"Taurus\" is the name of a subspecies of cattle, so this looks like a pretty reasonable filename. To save an image we can also do:"
   ]
  },
  {
   "cell_type": "code",
   "execution_count": 17,
   "metadata": {
    "tags": []
   },
   "outputs": [],
   "source": [
    "plt.imsave(\"taurus_image.png\", test_image)"
   ]
  },
  {
   "cell_type": "markdown",
   "metadata": {},
   "source": [
    "Your new PNG file should now appear in the file explorer -- go ahead and pop it open to see!\n",
    "\n",
    "Now that you know how to reshape the images, save them as files, and capture their filenames and labels, let's just capture all the bicycles and motorcycles and save them. Scones Unlimited can use a model that tells these apart to route delivery drivers automatically.\n",
    "\n",
    "In the following cell, identify the label numbers for Bicycles and Motorcycles:"
   ]
  },
  {
   "cell_type": "code",
   "execution_count": 10,
   "metadata": {
    "tags": []
   },
   "outputs": [
    {
     "name": "stdout",
     "output_type": "stream",
     "text": [
      "Label Name: b'bicycle',  Label Number: 8\n",
      "Label Name: b'motorcycle',  Label Number: 48\n"
     ]
    }
   ],
   "source": [
    "import pandas as pd\n",
    "\n",
    "# Filter the dataset_train and dataset_meta objects to find the label numbers for Bicycle and Motorcycles\n",
    "for  index, label_name in enumerate(dataset_meta[b'fine_label_names']):\n",
    "    if label_name in [b'bicycle',b'motorcycle']:\n",
    "        print( f\"Label Name: {label_name},  Label Number: {index}\")\n",
    "\n"
   ]
  },
  {
   "cell_type": "markdown",
   "metadata": {},
   "source": [
    "Good job! We only need objects with label 8 and 48 -- this drastically simplifies our handling of the data! Below we construct a dataframe for you, and you can safely drop the rows that don't contain observations about bicycles and motorcycles. Fill in the missing lines below to drop all other rows:"
   ]
  },
  {
   "cell_type": "code",
   "execution_count": 11,
   "metadata": {
    "tags": []
   },
   "outputs": [],
   "source": [
    "#Construct the dataframe\n",
    "df_train = pd.DataFrame({\n",
    "    \"filenames\": dataset_train[b'filenames'],\n",
    "    \"labels\": dataset_train[b'fine_labels'],\n",
    "    \"row\": range(len(dataset_train[b'filenames']))\n",
    "})\n",
    "\n",
    "# Drop all rows from df_train where label is not 8 or 48\n",
    "df_train = df_train.loc[df_train[\"labels\"].isin([8,48])]\n",
    "\n",
    "# Decode df_train.filenames so they are regular strings\n",
    "df_train[\"filenames\"] = df_train[\"filenames\"].apply(\n",
    "    lambda x: x.decode(\"utf-8\")\n",
    ")\n",
    "\n",
    "\n",
    "df_test = pd.DataFrame({\n",
    "    \"filenames\": dataset_test[b'filenames'],\n",
    "    \"labels\": dataset_test[b'fine_labels'],\n",
    "    \"row\": range(len(dataset_test[b'filenames']))\n",
    "})\n",
    "\n",
    "# Drop all rows from df_test where label is not 8 or 48\n",
    "df_test = df_test.loc[df_test[\"labels\"].isin([8,48])]\n",
    "\n",
    "# Decode df_test.filenames so they are regular strings\n",
    "df_test[\"filenames\"] = df_test[\"filenames\"].apply(\n",
    "    lambda x: x.decode(\"utf-8\")\n",
    ")"
   ]
  },
  {
   "cell_type": "code",
   "execution_count": 12,
   "metadata": {
    "tags": []
   },
   "outputs": [
    {
     "data": {
      "text/html": [
       "<div>\n",
       "<style scoped>\n",
       "    .dataframe tbody tr th:only-of-type {\n",
       "        vertical-align: middle;\n",
       "    }\n",
       "\n",
       "    .dataframe tbody tr th {\n",
       "        vertical-align: top;\n",
       "    }\n",
       "\n",
       "    .dataframe thead th {\n",
       "        text-align: right;\n",
       "    }\n",
       "</style>\n",
       "<table border=\"1\" class=\"dataframe\">\n",
       "  <thead>\n",
       "    <tr style=\"text-align: right;\">\n",
       "      <th></th>\n",
       "      <th>filenames</th>\n",
       "      <th>labels</th>\n",
       "      <th>row</th>\n",
       "    </tr>\n",
       "  </thead>\n",
       "  <tbody>\n",
       "    <tr>\n",
       "      <th>16</th>\n",
       "      <td>bike_s_000682.png</td>\n",
       "      <td>8</td>\n",
       "      <td>16</td>\n",
       "    </tr>\n",
       "    <tr>\n",
       "      <th>30</th>\n",
       "      <td>bike_s_000127.png</td>\n",
       "      <td>8</td>\n",
       "      <td>30</td>\n",
       "    </tr>\n",
       "    <tr>\n",
       "      <th>130</th>\n",
       "      <td>cycle_s_002598.png</td>\n",
       "      <td>8</td>\n",
       "      <td>130</td>\n",
       "    </tr>\n",
       "    <tr>\n",
       "      <th>152</th>\n",
       "      <td>minibike_s_000824.png</td>\n",
       "      <td>48</td>\n",
       "      <td>152</td>\n",
       "    </tr>\n",
       "    <tr>\n",
       "      <th>195</th>\n",
       "      <td>motorcycle_s_001856.png</td>\n",
       "      <td>48</td>\n",
       "      <td>195</td>\n",
       "    </tr>\n",
       "  </tbody>\n",
       "</table>\n",
       "</div>"
      ],
      "text/plain": [
       "                   filenames  labels  row\n",
       "16         bike_s_000682.png       8   16\n",
       "30         bike_s_000127.png       8   30\n",
       "130       cycle_s_002598.png       8  130\n",
       "152    minibike_s_000824.png      48  152\n",
       "195  motorcycle_s_001856.png      48  195"
      ]
     },
     "execution_count": 12,
     "metadata": {},
     "output_type": "execute_result"
    }
   ],
   "source": [
    "df_train.head()"
   ]
  },
  {
   "cell_type": "code",
   "execution_count": 21,
   "metadata": {
    "tags": []
   },
   "outputs": [
    {
     "data": {
      "text/html": [
       "<div>\n",
       "<style scoped>\n",
       "    .dataframe tbody tr th:only-of-type {\n",
       "        vertical-align: middle;\n",
       "    }\n",
       "\n",
       "    .dataframe tbody tr th {\n",
       "        vertical-align: top;\n",
       "    }\n",
       "\n",
       "    .dataframe thead th {\n",
       "        text-align: right;\n",
       "    }\n",
       "</style>\n",
       "<table border=\"1\" class=\"dataframe\">\n",
       "  <thead>\n",
       "    <tr style=\"text-align: right;\">\n",
       "      <th></th>\n",
       "      <th>filenames</th>\n",
       "      <th>labels</th>\n",
       "      <th>row</th>\n",
       "    </tr>\n",
       "  </thead>\n",
       "  <tbody>\n",
       "    <tr>\n",
       "      <th>27</th>\n",
       "      <td>safety_bike_s_000390.png</td>\n",
       "      <td>8</td>\n",
       "      <td>27</td>\n",
       "    </tr>\n",
       "    <tr>\n",
       "      <th>28</th>\n",
       "      <td>bike_s_000658.png</td>\n",
       "      <td>8</td>\n",
       "      <td>28</td>\n",
       "    </tr>\n",
       "    <tr>\n",
       "      <th>116</th>\n",
       "      <td>velocipede_s_001744.png</td>\n",
       "      <td>8</td>\n",
       "      <td>116</td>\n",
       "    </tr>\n",
       "    <tr>\n",
       "      <th>161</th>\n",
       "      <td>bike_s_000643.png</td>\n",
       "      <td>8</td>\n",
       "      <td>161</td>\n",
       "    </tr>\n",
       "    <tr>\n",
       "      <th>319</th>\n",
       "      <td>ordinary_bicycle_s_000437.png</td>\n",
       "      <td>8</td>\n",
       "      <td>319</td>\n",
       "    </tr>\n",
       "  </tbody>\n",
       "</table>\n",
       "</div>"
      ],
      "text/plain": [
       "                         filenames  labels  row\n",
       "27        safety_bike_s_000390.png       8   27\n",
       "28               bike_s_000658.png       8   28\n",
       "116        velocipede_s_001744.png       8  116\n",
       "161              bike_s_000643.png       8  161\n",
       "319  ordinary_bicycle_s_000437.png       8  319"
      ]
     },
     "execution_count": 21,
     "metadata": {},
     "output_type": "execute_result"
    }
   ],
   "source": [
    "df_test.head()"
   ]
  },
  {
   "cell_type": "markdown",
   "metadata": {},
   "source": [
    "Now that the data is filtered for just our classes, we can save all our images."
   ]
  },
  {
   "cell_type": "code",
   "execution_count": 22,
   "metadata": {
    "tags": []
   },
   "outputs": [
    {
     "name": "stdout",
     "output_type": "stream",
     "text": [
      "mkdir: cannot create directory ‘./train’: File exists\n",
      "mkdir: cannot create directory ‘./test’: File exists\n"
     ]
    }
   ],
   "source": [
    "!mkdir ./train\n",
    "!mkdir ./test"
   ]
  },
  {
   "cell_type": "markdown",
   "metadata": {},
   "source": [
    "In the previous sections we introduced you to several key snippets of code:\n",
    "\n",
    "1. Grabbing the image data:\n",
    "\n",
    "```python\n",
    "dataset_train[b'data'][0]\n",
    "```\n",
    "\n",
    "2. A simple idiom for stacking the image data into the right shape\n",
    "\n",
    "```python\n",
    "import numpy as np\n",
    "np.dstack((\n",
    "    row[0:1024].reshape(32,32),\n",
    "    row[1024:2048].reshape(32,32),\n",
    "    row[2048:].reshape(32,32)\n",
    "))\n",
    "```\n",
    "\n",
    "3. A simple `matplotlib` utility for saving images\n",
    "\n",
    "```python\n",
    "plt.imsave(path+row['filenames'], target)\n",
    "```\n",
    "\n",
    "Compose these together into a function that saves all the images into the `./test` and `./train` directories. Use the comments in the body of the `save_images` function below to guide your construction of the function:\n"
   ]
  },
  {
   "cell_type": "code",
   "execution_count": 23,
   "metadata": {
    "tags": []
   },
   "outputs": [],
   "source": [
    "import os\n",
    "\n",
    "def save_images(image_data_row_num , image_filename, target_folder_path, images_dataset):\n",
    "    \"\"\"A function for saving images from the dataset to the provided target path folders \n",
    "    \n",
    "    Arguments:\n",
    "    image_data_row_num  -- image data row that needs to be saved into a folder\n",
    "    image_filename            -- filename with which the image needs to be saved\n",
    "    target_folder_path        --  target folder path where image needs to be saved\n",
    "    images_dataset             -- original images dataset containing the data for the given images\n",
    "    \n",
    "    \"\"\"\n",
    "    #Grab the image data in row-major form\n",
    "    img_data =  images_dataset[b'data'][image_data_row_num]\n",
    "    \n",
    "    # Consolidated stacking/reshaping from earlier\n",
    "    target = np.dstack((\n",
    "        img_data[0:1024].reshape(32,32),\n",
    "        img_data[1024:2048].reshape(32,32),\n",
    "        img_data[2048:].reshape(32,32)\n",
    "    ))\n",
    "    \n",
    "    # Save the image\n",
    "    try:\n",
    "        image_file_path = os.path.join( target_folder_path, image_filename)\n",
    "        plt.imsave(image_file_path, target)\n",
    "    except e:\n",
    "        return f\"Error Saving {image_filename} to folder {target_folder_path} \\n Error: {e}  \"\n",
    "    # Return any signal data you want for debugging\n",
    "    return f\"Successfully saved {image_filename} to folder {target_folder_path}.\"\n"
   ]
  },
  {
   "cell_type": "code",
   "execution_count": 34,
   "metadata": {
    "collapsed": true,
    "jupyter": {
     "outputs_hidden": true
    },
    "tags": []
   },
   "outputs": [
    {
     "name": "stdout",
     "output_type": "stream",
     "text": [
      "Successfully saved bike_s_000682.png to folder ./train.\n",
      "Successfully saved bike_s_000127.png to folder ./train.\n",
      "Successfully saved cycle_s_002598.png to folder ./train.\n",
      "Successfully saved minibike_s_000824.png to folder ./train.\n",
      "Successfully saved motorcycle_s_001856.png to folder ./train.\n",
      "Successfully saved bicycle_s_000537.png to folder ./train.\n",
      "Successfully saved moped_s_000169.png to folder ./train.\n",
      "Successfully saved motorcycle_s_001453.png to folder ./train.\n",
      "Successfully saved safety_bike_s_000482.png to folder ./train.\n",
      "Successfully saved dirt_bike_s_000124.png to folder ./train.\n",
      "Successfully saved minibike_s_001863.png to folder ./train.\n",
      "Successfully saved minibike_s_001177.png to folder ./train.\n",
      "Successfully saved motorcycle_s_001792.png to folder ./train.\n",
      "Successfully saved minibike_s_001969.png to folder ./train.\n",
      "Successfully saved velocipede_s_001585.png to folder ./train.\n",
      "Successfully saved moped_s_000035.png to folder ./train.\n",
      "Successfully saved bike_s_000256.png to folder ./train.\n",
      "Successfully saved minibike_s_000571.png to folder ./train.\n",
      "Successfully saved motorcycle_s_001119.png to folder ./train.\n",
      "Successfully saved moped_s_000009.png to folder ./train.\n",
      "Successfully saved ordinary_bicycle_s_000023.png to folder ./train.\n",
      "Successfully saved motorcycle_s_001693.png to folder ./train.\n",
      "Successfully saved safety_bicycle_s_001570.png to folder ./train.\n",
      "Successfully saved safety_bike_s_000989.png to folder ./train.\n",
      "Successfully saved bicycle_s_001673.png to folder ./train.\n",
      "Successfully saved ordinary_bicycle_s_000100.png to folder ./train.\n",
      "Successfully saved bike_s_000544.png to folder ./train.\n",
      "Successfully saved motorcycle_s_001368.png to folder ./train.\n",
      "Successfully saved bicycle_s_000392.png to folder ./train.\n",
      "Successfully saved motorbike_s_000221.png to folder ./train.\n",
      "Successfully saved safety_bike_s_000311.png to folder ./train.\n",
      "Successfully saved cycle_s_001745.png to folder ./train.\n",
      "Successfully saved motorcycle_s_002030.png to folder ./train.\n",
      "Successfully saved motorcycle_s_000074.png to folder ./train.\n",
      "Successfully saved cycle_s_002978.png to folder ./train.\n",
      "Successfully saved bike_s_001679.png to folder ./train.\n",
      "Successfully saved bicycle_s_000536.png to folder ./train.\n",
      "Successfully saved bike_s_000926.png to folder ./train.\n",
      "Successfully saved motorcycle_s_000070.png to folder ./train.\n",
      "Successfully saved safety_bicycle_s_000655.png to folder ./train.\n",
      "Successfully saved safety_bicycle_s_000427.png to folder ./train.\n",
      "Successfully saved minibike_s_000324.png to folder ./train.\n",
      "Successfully saved minibike_s_001631.png to folder ./train.\n",
      "Successfully saved motorcycle_s_000629.png to folder ./train.\n",
      "Successfully saved motorcycle_s_000605.png to folder ./train.\n",
      "Successfully saved motorcycle_s_001973.png to folder ./train.\n",
      "Successfully saved bike_s_000555.png to folder ./train.\n",
      "Successfully saved bicycle_s_002762.png to folder ./train.\n",
      "Successfully saved bicycle_s_000778.png to folder ./train.\n",
      "Successfully saved bike_s_001613.png to folder ./train.\n",
      "Successfully saved motorcycle_s_001180.png to folder ./train.\n",
      "Successfully saved minibike_s_001279.png to folder ./train.\n",
      "Successfully saved minibike_s_000451.png to folder ./train.\n",
      "Successfully saved motorbike_s_000346.png to folder ./train.\n",
      "Successfully saved minibike_s_000117.png to folder ./train.\n",
      "Successfully saved bicycle_s_001448.png to folder ./train.\n",
      "Successfully saved motorcycle_s_000790.png to folder ./train.\n",
      "Successfully saved bicycle_s_002373.png to folder ./train.\n",
      "Successfully saved safety_bicycle_s_001202.png to folder ./train.\n",
      "Successfully saved motorcycle_s_000001.png to folder ./train.\n",
      "Successfully saved bike_s_001882.png to folder ./train.\n",
      "Successfully saved bike_s_001113.png to folder ./train.\n",
      "Successfully saved minibike_s_000362.png to folder ./train.\n",
      "Successfully saved cycle_s_000718.png to folder ./train.\n",
      "Successfully saved velocipede_s_001338.png to folder ./train.\n",
      "Successfully saved minibike_s_001972.png to folder ./train.\n",
      "Successfully saved ordinary_bicycle_s_000107.png to folder ./train.\n",
      "Successfully saved motorcycle_s_000776.png to folder ./train.\n",
      "Successfully saved safety_bike_s_000934.png to folder ./train.\n",
      "Successfully saved bicycle_s_002218.png to folder ./train.\n",
      "Successfully saved safety_bicycle_s_001240.png to folder ./train.\n",
      "Successfully saved ordinary_bicycle_s_000355.png to folder ./train.\n",
      "Successfully saved motorcycle_s_000454.png to folder ./train.\n",
      "Successfully saved motorcycle_s_000245.png to folder ./train.\n",
      "Successfully saved minibike_s_000743.png to folder ./train.\n",
      "Successfully saved safety_bike_s_000830.png to folder ./train.\n",
      "Successfully saved minibike_s_001573.png to folder ./train.\n",
      "Successfully saved motorbike_s_000141.png to folder ./train.\n",
      "Successfully saved minibike_s_000652.png to folder ./train.\n",
      "Successfully saved motorbike_s_000058.png to folder ./train.\n",
      "Successfully saved bicycle_s_000279.png to folder ./train.\n",
      "Successfully saved safety_bike_s_001608.png to folder ./train.\n",
      "Successfully saved bicycle_s_000522.png to folder ./train.\n",
      "Successfully saved bicycle_s_002569.png to folder ./train.\n",
      "Successfully saved bicycle_s_000829.png to folder ./train.\n",
      "Successfully saved velocipede_s_000586.png to folder ./train.\n",
      "Successfully saved dirt_bike_s_000017.png to folder ./train.\n",
      "Successfully saved cycle_s_001640.png to folder ./train.\n",
      "Successfully saved bicycle_s_000282.png to folder ./train.\n",
      "Successfully saved motorcycle_s_000713.png to folder ./train.\n",
      "Successfully saved bike_s_000035.png to folder ./train.\n",
      "Successfully saved bike_s_000299.png to folder ./train.\n",
      "Successfully saved minibike_s_002198.png to folder ./train.\n",
      "Successfully saved safety_bicycle_s_001253.png to folder ./train.\n",
      "Successfully saved minibike_s_000110.png to folder ./train.\n",
      "Successfully saved motorcycle_s_001370.png to folder ./train.\n",
      "Successfully saved motorcycle_s_001363.png to folder ./train.\n",
      "Successfully saved ordinary_bicycle_s_000060.png to folder ./train.\n",
      "Successfully saved minibike_s_001653.png to folder ./train.\n",
      "Successfully saved bicycle_s_001338.png to folder ./train.\n",
      "Successfully saved cycle_s_002053.png to folder ./train.\n",
      "Successfully saved velocipede_s_001056.png to folder ./train.\n",
      "Successfully saved minibike_s_000402.png to folder ./train.\n",
      "Successfully saved motorbike_s_000124.png to folder ./train.\n",
      "Successfully saved cycle_s_002638.png to folder ./train.\n",
      "Successfully saved velocipede_s_000949.png to folder ./train.\n",
      "Successfully saved safety_bike_s_000921.png to folder ./train.\n",
      "Successfully saved ordinary_bicycle_s_000297.png to folder ./train.\n",
      "Successfully saved motorcycle_s_001580.png to folder ./train.\n",
      "Successfully saved velocipede_s_000139.png to folder ./train.\n",
      "Successfully saved bicycle_s_000561.png to folder ./train.\n",
      "Successfully saved ordinary_bicycle_s_000161.png to folder ./train.\n",
      "Successfully saved minibike_s_000518.png to folder ./train.\n",
      "Successfully saved motorcycle_s_000167.png to folder ./train.\n",
      "Successfully saved cycle_s_000318.png to folder ./train.\n",
      "Successfully saved velocipede_s_001958.png to folder ./train.\n",
      "Successfully saved ordinary_bicycle_s_000201.png to folder ./train.\n",
      "Successfully saved bike_s_001462.png to folder ./train.\n",
      "Successfully saved bicycle_s_000437.png to folder ./train.\n",
      "Successfully saved velocipede_s_000825.png to folder ./train.\n",
      "Successfully saved safety_bike_s_000100.png to folder ./train.\n",
      "Successfully saved minibike_s_000654.png to folder ./train.\n",
      "Successfully saved bicycle_s_000021.png to folder ./train.\n",
      "Successfully saved moped_s_000030.png to folder ./train.\n",
      "Successfully saved velocipede_s_001142.png to folder ./train.\n",
      "Successfully saved motorbike_s_000117.png to folder ./train.\n",
      "Successfully saved ordinary_bicycle_s_000036.png to folder ./train.\n",
      "Successfully saved motorcycle_s_000787.png to folder ./train.\n",
      "Successfully saved bike_s_000516.png to folder ./train.\n",
      "Successfully saved motorcycle_s_000256.png to folder ./train.\n",
      "Successfully saved bicycle_s_002299.png to folder ./train.\n",
      "Successfully saved velocipede_s_001883.png to folder ./train.\n",
      "Successfully saved motorcycle_s_002143.png to folder ./train.\n",
      "Successfully saved cycle_s_000899.png to folder ./train.\n",
      "Successfully saved bicycle_s_002436.png to folder ./train.\n",
      "Successfully saved safety_bicycle_s_000255.png to folder ./train.\n",
      "Successfully saved minibike_s_000565.png to folder ./train.\n",
      "Successfully saved bike_s_000034.png to folder ./train.\n",
      "Successfully saved motorcycle_s_001064.png to folder ./train.\n",
      "Successfully saved minibike_s_001017.png to folder ./train.\n",
      "Successfully saved motorbike_s_000172.png to folder ./train.\n",
      "Successfully saved motorcycle_s_000923.png to folder ./train.\n",
      "Successfully saved cycle_s_000583.png to folder ./train.\n",
      "Successfully saved motorcycle_s_000991.png to folder ./train.\n",
      "Successfully saved motorbike_s_000541.png to folder ./train.\n",
      "Successfully saved motorcycle_s_001303.png to folder ./train.\n",
      "Successfully saved safety_bike_s_000567.png to folder ./train.\n",
      "Successfully saved minibike_s_000350.png to folder ./train.\n",
      "Successfully saved motorcycle_s_001905.png to folder ./train.\n",
      "Successfully saved bicycle_s_001247.png to folder ./train.\n",
      "Successfully saved bicycle_s_001693.png to folder ./train.\n",
      "Successfully saved bicycle_s_002258.png to folder ./train.\n",
      "Successfully saved safety_bike_s_001552.png to folder ./train.\n",
      "Successfully saved cycle_s_002651.png to folder ./train.\n",
      "Successfully saved bicycle_s_000759.png to folder ./train.\n",
      "Successfully saved motorcycle_s_001176.png to folder ./train.\n",
      "Successfully saved ordinary_bicycle_s_000432.png to folder ./train.\n",
      "Successfully saved minibike_s_000526.png to folder ./train.\n",
      "Successfully saved safety_bicycle_s_001049.png to folder ./train.\n",
      "Successfully saved minibike_s_001827.png to folder ./train.\n",
      "Successfully saved bike_s_001072.png to folder ./train.\n",
      "Successfully saved bike_s_001876.png to folder ./train.\n",
      "Successfully saved minibike_s_001511.png to folder ./train.\n",
      "Successfully saved bike_s_000237.png to folder ./train.\n",
      "Successfully saved motorbike_s_000254.png to folder ./train.\n",
      "Successfully saved bicycle_s_000180.png to folder ./train.\n",
      "Successfully saved safety_bicycle_s_000359.png to folder ./train.\n",
      "Successfully saved motorcycle_s_000220.png to folder ./train.\n",
      "Successfully saved motorcycle_s_002225.png to folder ./train.\n",
      "Successfully saved minibike_s_001185.png to folder ./train.\n",
      "Successfully saved motorcycle_s_000025.png to folder ./train.\n",
      "Successfully saved safety_bike_s_000058.png to folder ./train.\n",
      "Successfully saved dirt_bike_s_000030.png to folder ./train.\n",
      "Successfully saved minibike_s_002009.png to folder ./train.\n",
      "Successfully saved bicycle_s_000753.png to folder ./train.\n",
      "Successfully saved safety_bicycle_s_001320.png to folder ./train.\n",
      "Successfully saved motorcycle_s_001287.png to folder ./train.\n",
      "Successfully saved ordinary_bicycle_s_000451.png to folder ./train.\n",
      "Successfully saved minibike_s_000885.png to folder ./train.\n",
      "Successfully saved motorcycle_s_000418.png to folder ./train.\n",
      "Successfully saved velocipede_s_000282.png to folder ./train.\n",
      "Successfully saved cycle_s_001474.png to folder ./train.\n",
      "Successfully saved bicycle_s_000667.png to folder ./train.\n",
      "Successfully saved minibike_s_001546.png to folder ./train.\n",
      "Successfully saved bicycle_s_001452.png to folder ./train.\n",
      "Successfully saved motorcycle_s_000978.png to folder ./train.\n",
      "Successfully saved motorcycle_s_000447.png to folder ./train.\n",
      "Successfully saved minibike_s_000146.png to folder ./train.\n",
      "Successfully saved motorcycle_s_000300.png to folder ./train.\n",
      "Successfully saved safety_bicycle_s_001381.png to folder ./train.\n",
      "Successfully saved bike_s_001519.png to folder ./train.\n",
      "Successfully saved minibike_s_001689.png to folder ./train.\n",
      "Successfully saved bike_s_001320.png to folder ./train.\n",
      "Successfully saved bike_s_000722.png to folder ./train.\n",
      "Successfully saved motorcycle_s_000508.png to folder ./train.\n",
      "Successfully saved motorcycle_s_002105.png to folder ./train.\n",
      "Successfully saved minibike_s_000165.png to folder ./train.\n",
      "Successfully saved cycle_s_002703.png to folder ./train.\n",
      "Successfully saved ordinary_bicycle_s_000216.png to folder ./train.\n",
      "Successfully saved motorcycle_s_001610.png to folder ./train.\n",
      "Successfully saved cycle_s_002779.png to folder ./train.\n",
      "Successfully saved bicycle_s_000668.png to folder ./train.\n",
      "Successfully saved minibike_s_002186.png to folder ./train.\n",
      "Successfully saved bike_s_002118.png to folder ./train.\n",
      "Successfully saved safety_bike_s_001472.png to folder ./train.\n",
      "Successfully saved ordinary_bicycle_s_000016.png to folder ./train.\n",
      "Successfully saved motorcycle_s_001384.png to folder ./train.\n",
      "Successfully saved motorcycle_s_000431.png to folder ./train.\n",
      "Successfully saved bike_s_000302.png to folder ./train.\n",
      "Successfully saved velocipede_s_000659.png to folder ./train.\n",
      "Successfully saved motorcycle_s_001585.png to folder ./train.\n",
      "Successfully saved bike_s_001027.png to folder ./train.\n",
      "Successfully saved bicycle_s_000396.png to folder ./train.\n",
      "Successfully saved minibike_s_000149.png to folder ./train.\n",
      "Successfully saved velocipede_s_000702.png to folder ./train.\n",
      "Successfully saved ordinary_bicycle_s_000155.png to folder ./train.\n",
      "Successfully saved cycle_s_003122.png to folder ./train.\n",
      "Successfully saved motorbike_s_000021.png to folder ./train.\n",
      "Successfully saved safety_bicycle_s_001026.png to folder ./train.\n",
      "Successfully saved bike_s_001375.png to folder ./train.\n",
      "Successfully saved safety_bicycle_s_000533.png to folder ./train.\n",
      "Successfully saved bike_s_000021.png to folder ./train.\n",
      "Successfully saved minibike_s_000968.png to folder ./train.\n",
      "Successfully saved minibike_s_001873.png to folder ./train.\n",
      "Successfully saved bicycle_s_000463.png to folder ./train.\n",
      "Successfully saved bike_s_001839.png to folder ./train.\n",
      "Successfully saved minibike_s_000340.png to folder ./train.\n",
      "Successfully saved minibike_s_000831.png to folder ./train.\n",
      "Successfully saved motorcycle_s_001273.png to folder ./train.\n",
      "Successfully saved motorcycle_s_000807.png to folder ./train.\n",
      "Successfully saved bicycle_s_000156.png to folder ./train.\n",
      "Successfully saved motorcycle_s_000732.png to folder ./train.\n",
      "Successfully saved dirt_bike_s_000119.png to folder ./train.\n",
      "Successfully saved bicycle_s_000231.png to folder ./train.\n",
      "Successfully saved ordinary_bicycle_s_000056.png to folder ./train.\n",
      "Successfully saved ordinary_bicycle_s_000022.png to folder ./train.\n",
      "Successfully saved safety_bicycle_s_001243.png to folder ./train.\n",
      "Successfully saved motorcycle_s_000894.png to folder ./train.\n",
      "Successfully saved motorcycle_s_001397.png to folder ./train.\n",
      "Successfully saved motorcycle_s_000542.png to folder ./train.\n",
      "Successfully saved motorcycle_s_000834.png to folder ./train.\n",
      "Successfully saved motorcycle_s_001238.png to folder ./train.\n",
      "Successfully saved minibike_s_000567.png to folder ./train.\n",
      "Successfully saved minibike_s_001512.png to folder ./train.\n",
      "Successfully saved bike_s_001945.png to folder ./train.\n",
      "Successfully saved cycle_s_003148.png to folder ./train.\n",
      "Successfully saved safety_bicycle_s_000019.png to folder ./train.\n",
      "Successfully saved safety_bicycle_s_000167.png to folder ./train.\n",
      "Successfully saved motorcycle_s_001407.png to folder ./train.\n",
      "Successfully saved velocipede_s_001225.png to folder ./train.\n",
      "Successfully saved moped_s_000168.png to folder ./train.\n",
      "Successfully saved bicycle_s_000071.png to folder ./train.\n",
      "Successfully saved minibike_s_002030.png to folder ./train.\n",
      "Successfully saved minibike_s_001294.png to folder ./train.\n",
      "Successfully saved minibike_s_001767.png to folder ./train.\n",
      "Successfully saved safety_bike_s_000984.png to folder ./train.\n",
      "Successfully saved bicycle_s_000782.png to folder ./train.\n",
      "Successfully saved ordinary_bicycle_s_000095.png to folder ./train.\n",
      "Successfully saved cycle_s_001286.png to folder ./train.\n",
      "Successfully saved bike_s_001116.png to folder ./train.\n",
      "Successfully saved motorcycle_s_002065.png to folder ./train.\n",
      "Successfully saved ordinary_bicycle_s_000433.png to folder ./train.\n",
      "Successfully saved motorcycle_s_002221.png to folder ./train.\n",
      "Successfully saved safety_bike_s_000054.png to folder ./train.\n",
      "Successfully saved bicycle_s_001174.png to folder ./train.\n",
      "Successfully saved bicycle_s_002222.png to folder ./train.\n",
      "Successfully saved velocipede_s_001361.png to folder ./train.\n",
      "Successfully saved safety_bike_s_001012.png to folder ./train.\n",
      "Successfully saved minibike_s_000244.png to folder ./train.\n",
      "Successfully saved bicycle_s_000861.png to folder ./train.\n",
      "Successfully saved minibike_s_000566.png to folder ./train.\n",
      "Successfully saved motorcycle_s_001244.png to folder ./train.\n",
      "Successfully saved bicycle_s_002715.png to folder ./train.\n",
      "Successfully saved safety_bike_s_000963.png to folder ./train.\n",
      "Successfully saved motorcycle_s_001765.png to folder ./train.\n",
      "Successfully saved velocipede_s_000021.png to folder ./train.\n",
      "Successfully saved motorcycle_s_000580.png to folder ./train.\n",
      "Successfully saved bike_s_001226.png to folder ./train.\n",
      "Successfully saved motorcycle_s_000440.png to folder ./train.\n",
      "Successfully saved motorcycle_s_000144.png to folder ./train.\n",
      "Successfully saved cycle_s_002844.png to folder ./train.\n",
      "Successfully saved minibike_s_000485.png to folder ./train.\n",
      "Successfully saved ordinary_bicycle_s_000426.png to folder ./train.\n",
      "Successfully saved minibike_s_002196.png to folder ./train.\n",
      "Successfully saved bike_s_001897.png to folder ./train.\n",
      "Successfully saved cycle_s_001374.png to folder ./train.\n",
      "Successfully saved motorcycle_s_000585.png to folder ./train.\n",
      "Successfully saved bike_s_000026.png to folder ./train.\n",
      "Successfully saved bicycle_s_000235.png to folder ./train.\n",
      "Successfully saved minibike_s_000108.png to folder ./train.\n",
      "Successfully saved motorcycle_s_000072.png to folder ./train.\n",
      "Successfully saved motorcycle_s_002234.png to folder ./train.\n",
      "Successfully saved bicycle_s_000785.png to folder ./train.\n",
      "Successfully saved motorcycle_s_000669.png to folder ./train.\n",
      "Successfully saved bicycle_s_000051.png to folder ./train.\n",
      "Successfully saved bike_s_001093.png to folder ./train.\n",
      "Successfully saved velocipede_s_000049.png to folder ./train.\n",
      "Successfully saved bike_s_000023.png to folder ./train.\n",
      "Successfully saved motorcycle_s_001696.png to folder ./train.\n",
      "Successfully saved safety_bicycle_s_001113.png to folder ./train.\n",
      "Successfully saved motorcycle_s_000451.png to folder ./train.\n",
      "Successfully saved velocipede_s_000485.png to folder ./train.\n",
      "Successfully saved motorcycle_s_001753.png to folder ./train.\n",
      "Successfully saved cycle_s_001439.png to folder ./train.\n",
      "Successfully saved minibike_s_002038.png to folder ./train.\n",
      "Successfully saved bicycle_s_000147.png to folder ./train.\n",
      "Successfully saved cycle_s_002399.png to folder ./train.\n",
      "Successfully saved motorcycle_s_001565.png to folder ./train.\n",
      "Successfully saved bicycle_s_000159.png to folder ./train.\n",
      "Successfully saved minibike_s_000035.png to folder ./train.\n",
      "Successfully saved safety_bicycle_s_000239.png to folder ./train.\n",
      "Successfully saved safety_bike_s_001640.png to folder ./train.\n",
      "Successfully saved minibike_s_000698.png to folder ./train.\n",
      "Successfully saved minibike_s_000967.png to folder ./train.\n",
      "Successfully saved safety_bike_s_000381.png to folder ./train.\n",
      "Successfully saved motorcycle_s_000216.png to folder ./train.\n",
      "Successfully saved bike_s_000855.png to folder ./train.\n",
      "Successfully saved motorcycle_s_001715.png to folder ./train.\n",
      "Successfully saved motorcycle_s_002275.png to folder ./train.\n",
      "Successfully saved safety_bike_s_001338.png to folder ./train.\n",
      "Successfully saved safety_bicycle_s_001705.png to folder ./train.\n",
      "Successfully saved minibike_s_000855.png to folder ./train.\n",
      "Successfully saved bicycle_s_002132.png to folder ./train.\n",
      "Successfully saved minibike_s_000218.png to folder ./train.\n",
      "Successfully saved safety_bike_s_000178.png to folder ./train.\n",
      "Successfully saved motorcycle_s_001584.png to folder ./train.\n",
      "Successfully saved safety_bicycle_s_000162.png to folder ./train.\n",
      "Successfully saved motorcycle_s_001392.png to folder ./train.\n",
      "Successfully saved bicycle_s_001814.png to folder ./train.\n",
      "Successfully saved motorbike_s_000362.png to folder ./train.\n",
      "Successfully saved minibike_s_000519.png to folder ./train.\n",
      "Successfully saved minibike_s_001417.png to folder ./train.\n",
      "Successfully saved safety_bike_s_000277.png to folder ./train.\n",
      "Successfully saved cycle_s_002090.png to folder ./train.\n",
      "Successfully saved bicycle_s_001168.png to folder ./train.\n",
      "Successfully saved minibike_s_000498.png to folder ./train.\n",
      "Successfully saved motorcycle_s_001400.png to folder ./train.\n",
      "Successfully saved motorcycle_s_000320.png to folder ./train.\n",
      "Successfully saved minibike_s_001734.png to folder ./train.\n",
      "Successfully saved cycle_s_002659.png to folder ./train.\n",
      "Successfully saved bike_s_000990.png to folder ./train.\n",
      "Successfully saved velocipede_s_000358.png to folder ./train.\n",
      "Successfully saved safety_bicycle_s_000568.png to folder ./train.\n",
      "Successfully saved motorcycle_s_000312.png to folder ./train.\n",
      "Successfully saved motorcycle_s_001686.png to folder ./train.\n",
      "Successfully saved cycle_s_001472.png to folder ./train.\n",
      "Successfully saved minibike_s_000064.png to folder ./train.\n",
      "Successfully saved safety_bike_s_001784.png to folder ./train.\n",
      "Successfully saved motorcycle_s_002236.png to folder ./train.\n",
      "Successfully saved minibike_s_000020.png to folder ./train.\n",
      "Successfully saved motorcycle_s_001182.png to folder ./train.\n",
      "Successfully saved bicycle_s_000781.png to folder ./train.\n",
      "Successfully saved ordinary_bicycle_s_000167.png to folder ./train.\n",
      "Successfully saved cycle_s_002666.png to folder ./train.\n",
      "Successfully saved dirt_bike_s_000134.png to folder ./train.\n",
      "Successfully saved bike_s_000015.png to folder ./train.\n",
      "Successfully saved bike_s_001767.png to folder ./train.\n",
      "Successfully saved motorcycle_s_001790.png to folder ./train.\n",
      "Successfully saved bike_s_001915.png to folder ./train.\n",
      "Successfully saved bike_s_001415.png to folder ./train.\n",
      "Successfully saved motorbike_s_000578.png to folder ./train.\n",
      "Successfully saved safety_bicycle_s_000532.png to folder ./train.\n",
      "Successfully saved ordinary_bicycle_s_000049.png to folder ./train.\n",
      "Successfully saved minibike_s_001639.png to folder ./train.\n",
      "Successfully saved bike_s_000129.png to folder ./train.\n",
      "Successfully saved minibike_s_001565.png to folder ./train.\n",
      "Successfully saved bike_s_002203.png to folder ./train.\n",
      "Successfully saved minibike_s_000401.png to folder ./train.\n",
      "Successfully saved safety_bicycle_s_001608.png to folder ./train.\n",
      "Successfully saved velocipede_s_000670.png to folder ./train.\n",
      "Successfully saved safety_bicycle_s_000207.png to folder ./train.\n",
      "Successfully saved motorcycle_s_001853.png to folder ./train.\n",
      "Successfully saved bike_s_002222.png to folder ./train.\n",
      "Successfully saved motorcycle_s_000004.png to folder ./train.\n",
      "Successfully saved motorcycle_s_000496.png to folder ./train.\n",
      "Successfully saved motorcycle_s_001492.png to folder ./train.\n",
      "Successfully saved bike_s_001761.png to folder ./train.\n",
      "Successfully saved velocipede_s_001299.png to folder ./train.\n",
      "Successfully saved bike_s_000040.png to folder ./train.\n",
      "Successfully saved cycle_s_003162.png to folder ./train.\n",
      "Successfully saved velocipede_s_001880.png to folder ./train.\n",
      "Successfully saved bike_s_002139.png to folder ./train.\n",
      "Successfully saved bicycle_s_001583.png to folder ./train.\n",
      "Successfully saved safety_bicycle_s_001706.png to folder ./train.\n",
      "Successfully saved bike_s_001200.png to folder ./train.\n",
      "Successfully saved motorcycle_s_000699.png to folder ./train.\n",
      "Successfully saved cycle_s_000492.png to folder ./train.\n",
      "Successfully saved cycle_s_000222.png to folder ./train.\n",
      "Successfully saved motorcycle_s_002162.png to folder ./train.\n",
      "Successfully saved minibike_s_000409.png to folder ./train.\n",
      "Successfully saved cycle_s_001735.png to folder ./train.\n",
      "Successfully saved bike_s_000657.png to folder ./train.\n",
      "Successfully saved safety_bike_s_000643.png to folder ./train.\n",
      "Successfully saved bike_s_000506.png to folder ./train.\n",
      "Successfully saved minibike_s_001348.png to folder ./train.\n",
      "Successfully saved moped_s_000065.png to folder ./train.\n",
      "Successfully saved bicycle_s_002729.png to folder ./train.\n",
      "Successfully saved bicycle_s_001687.png to folder ./train.\n",
      "Successfully saved bicycle_s_002338.png to folder ./train.\n",
      "Successfully saved motorcycle_s_000459.png to folder ./train.\n",
      "Successfully saved bike_s_000593.png to folder ./train.\n",
      "Successfully saved velocipede_s_001422.png to folder ./train.\n",
      "Successfully saved ordinary_bicycle_s_000347.png to folder ./train.\n",
      "Successfully saved minibike_s_001870.png to folder ./train.\n",
      "Successfully saved bicycle_s_001757.png to folder ./train.\n",
      "Successfully saved motorcycle_s_001016.png to folder ./train.\n",
      "Successfully saved motorbike_s_000041.png to folder ./train.\n",
      "Successfully saved bike_s_000522.png to folder ./train.\n",
      "Successfully saved ordinary_bicycle_s_000104.png to folder ./train.\n",
      "Successfully saved bike_s_000397.png to folder ./train.\n",
      "Successfully saved minibike_s_000802.png to folder ./train.\n",
      "Successfully saved trail_bike_s_000016.png to folder ./train.\n",
      "Successfully saved motorcycle_s_000686.png to folder ./train.\n",
      "Successfully saved velocipede_s_001935.png to folder ./train.\n",
      "Successfully saved safety_bike_s_000165.png to folder ./train.\n",
      "Successfully saved motorbike_s_000308.png to folder ./train.\n",
      "Successfully saved bike_s_000018.png to folder ./train.\n",
      "Successfully saved cycle_s_001976.png to folder ./train.\n",
      "Successfully saved minibike_s_000741.png to folder ./train.\n",
      "Successfully saved motorcycle_s_001236.png to folder ./train.\n",
      "Successfully saved moped_s_000071.png to folder ./train.\n",
      "Successfully saved bike_s_000164.png to folder ./train.\n",
      "Successfully saved bike_s_001739.png to folder ./train.\n",
      "Successfully saved bicycle_s_001388.png to folder ./train.\n",
      "Successfully saved bicycle_s_000149.png to folder ./train.\n",
      "Successfully saved motorcycle_s_002197.png to folder ./train.\n",
      "Successfully saved motorcycle_s_000277.png to folder ./train.\n",
      "Successfully saved motorcycle_s_001690.png to folder ./train.\n",
      "Successfully saved minibike_s_002048.png to folder ./train.\n",
      "Successfully saved motorcycle_s_000253.png to folder ./train.\n",
      "Successfully saved safety_bike_s_001010.png to folder ./train.\n",
      "Successfully saved motorcycle_s_000785.png to folder ./train.\n",
      "Successfully saved ordinary_bicycle_s_000387.png to folder ./train.\n",
      "Successfully saved cycle_s_001309.png to folder ./train.\n",
      "Successfully saved motorcycle_s_002316.png to folder ./train.\n",
      "Successfully saved motorcycle_s_000340.png to folder ./train.\n",
      "Successfully saved moped_s_000124.png to folder ./train.\n",
      "Successfully saved minibike_s_001917.png to folder ./train.\n",
      "Successfully saved bicycle_s_000951.png to folder ./train.\n",
      "Successfully saved motorcycle_s_000002.png to folder ./train.\n",
      "Successfully saved motorcycle_s_001063.png to folder ./train.\n",
      "Successfully saved motorcycle_s_001641.png to folder ./train.\n",
      "Successfully saved bicycle_s_002129.png to folder ./train.\n",
      "Successfully saved minibike_s_002182.png to folder ./train.\n",
      "Successfully saved minibike_s_000427.png to folder ./train.\n",
      "Successfully saved motorcycle_s_001438.png to folder ./train.\n",
      "Successfully saved motorcycle_s_000126.png to folder ./train.\n",
      "Successfully saved minibike_s_001865.png to folder ./train.\n",
      "Successfully saved motorcycle_s_000456.png to folder ./train.\n",
      "Successfully saved motorcycle_s_000252.png to folder ./train.\n",
      "Successfully saved bicycle_s_000043.png to folder ./train.\n",
      "Successfully saved bicycle_s_001928.png to folder ./train.\n",
      "Successfully saved safety_bike_s_000173.png to folder ./train.\n",
      "Successfully saved motorcycle_s_000696.png to folder ./train.\n",
      "Successfully saved motorcycle_s_001413.png to folder ./train.\n",
      "Successfully saved safety_bicycle_s_001303.png to folder ./train.\n",
      "Successfully saved motorcycle_s_001220.png to folder ./train.\n",
      "Successfully saved safety_bicycle_s_000079.png to folder ./train.\n",
      "Successfully saved bicycle_s_001681.png to folder ./train.\n",
      "Successfully saved cycle_s_002015.png to folder ./train.\n",
      "Successfully saved cycle_s_002746.png to folder ./train.\n",
      "Successfully saved minibike_s_001250.png to folder ./train.\n",
      "Successfully saved safety_bicycle_s_000303.png to folder ./train.\n",
      "Successfully saved bike_s_000392.png to folder ./train.\n",
      "Successfully saved minibike_s_000408.png to folder ./train.\n",
      "Successfully saved safety_bike_s_001355.png to folder ./train.\n",
      "Successfully saved motorcycle_s_000076.png to folder ./train.\n",
      "Successfully saved safety_bicycle_s_000322.png to folder ./train.\n",
      "Successfully saved bike_s_002090.png to folder ./train.\n",
      "Successfully saved motorcycle_s_000796.png to folder ./train.\n",
      "Successfully saved motorbike_s_000225.png to folder ./train.\n",
      "Successfully saved motorcycle_s_000050.png to folder ./train.\n",
      "Successfully saved bike_s_000474.png to folder ./train.\n",
      "Successfully saved motorcycle_s_000127.png to folder ./train.\n",
      "Successfully saved motorcycle_s_002193.png to folder ./train.\n",
      "Successfully saved bicycle_s_002374.png to folder ./train.\n",
      "Successfully saved minibike_s_001558.png to folder ./train.\n",
      "Successfully saved velocipede_s_001279.png to folder ./train.\n",
      "Successfully saved minibike_s_001496.png to folder ./train.\n",
      "Successfully saved bicycle_s_001411.png to folder ./train.\n",
      "Successfully saved minibike_s_001072.png to folder ./train.\n",
      "Successfully saved bicycle_s_001688.png to folder ./train.\n",
      "Successfully saved safety_bike_s_000160.png to folder ./train.\n",
      "Successfully saved minibike_s_000820.png to folder ./train.\n",
      "Successfully saved ordinary_bicycle_s_000298.png to folder ./train.\n",
      "Successfully saved bicycle_s_000314.png to folder ./train.\n",
      "Successfully saved motorcycle_s_001862.png to folder ./train.\n",
      "Successfully saved minibike_s_001575.png to folder ./train.\n",
      "Successfully saved minibike_s_000709.png to folder ./train.\n",
      "Successfully saved velocipede_s_000931.png to folder ./train.\n",
      "Successfully saved safety_bike_s_000104.png to folder ./train.\n",
      "Successfully saved motorcycle_s_001197.png to folder ./train.\n",
      "Successfully saved motorbike_s_000115.png to folder ./train.\n",
      "Successfully saved bicycle_s_002728.png to folder ./train.\n",
      "Successfully saved safety_bike_s_001474.png to folder ./train.\n",
      "Successfully saved bike_s_002024.png to folder ./train.\n",
      "Successfully saved cycle_s_000666.png to folder ./train.\n",
      "Successfully saved motorcycle_s_000617.png to folder ./train.\n",
      "Successfully saved safety_bike_s_000461.png to folder ./train.\n",
      "Successfully saved bike_s_001572.png to folder ./train.\n",
      "Successfully saved motorcycle_s_000003.png to folder ./train.\n",
      "Successfully saved bicycle_s_002029.png to folder ./train.\n",
      "Successfully saved minibike_s_000701.png to folder ./train.\n",
      "Successfully saved motorbike_s_000009.png to folder ./train.\n",
      "Successfully saved minibike_s_001789.png to folder ./train.\n",
      "Successfully saved motorcycle_s_000417.png to folder ./train.\n",
      "Successfully saved motorcycle_s_000246.png to folder ./train.\n",
      "Successfully saved minibike_s_000886.png to folder ./train.\n",
      "Successfully saved motorcycle_s_000154.png to folder ./train.\n",
      "Successfully saved minibike_s_001169.png to folder ./train.\n",
      "Successfully saved cycle_s_002904.png to folder ./train.\n",
      "Successfully saved motorcycle_s_000772.png to folder ./train.\n",
      "Successfully saved velocipede_s_001158.png to folder ./train.\n",
      "Successfully saved bicycle_s_002521.png to folder ./train.\n",
      "Successfully saved minibike_s_001179.png to folder ./train.\n",
      "Successfully saved bicycle_s_001111.png to folder ./train.\n",
      "Successfully saved bicycle_s_001205.png to folder ./train.\n",
      "Successfully saved bicycle_s_000435.png to folder ./train.\n",
      "Successfully saved minibike_s_001771.png to folder ./train.\n",
      "Successfully saved motorcycle_s_000545.png to folder ./train.\n",
      "Successfully saved moped_s_000004.png to folder ./train.\n",
      "Successfully saved velocipede_s_001358.png to folder ./train.\n",
      "Successfully saved motorcycle_s_001402.png to folder ./train.\n",
      "Successfully saved minibike_s_001836.png to folder ./train.\n",
      "Successfully saved motorcycle_s_002067.png to folder ./train.\n",
      "Successfully saved bicycle_s_002012.png to folder ./train.\n",
      "Successfully saved motorcycle_s_000517.png to folder ./train.\n",
      "Successfully saved minibike_s_001345.png to folder ./train.\n",
      "Successfully saved minibike_s_000522.png to folder ./train.\n",
      "Successfully saved motorcycle_s_000700.png to folder ./train.\n",
      "Successfully saved motorcycle_s_001183.png to folder ./train.\n",
      "Successfully saved velocipede_s_001874.png to folder ./train.\n",
      "Successfully saved cycle_s_003006.png to folder ./train.\n",
      "Successfully saved motorcycle_s_000170.png to folder ./train.\n",
      "Successfully saved ordinary_bicycle_s_000419.png to folder ./train.\n",
      "Successfully saved motorcycle_s_000284.png to folder ./train.\n",
      "Successfully saved motorbike_s_000035.png to folder ./train.\n",
      "Successfully saved dirt_bike_s_000005.png to folder ./train.\n",
      "Successfully saved motorcycle_s_001784.png to folder ./train.\n",
      "Successfully saved motorcycle_s_001848.png to folder ./train.\n",
      "Successfully saved minibike_s_002046.png to folder ./train.\n",
      "Successfully saved motorcycle_s_002317.png to folder ./train.\n",
      "Successfully saved bike_s_001980.png to folder ./train.\n",
      "Successfully saved safety_bike_s_000950.png to folder ./train.\n",
      "Successfully saved bicycle_s_002237.png to folder ./train.\n",
      "Successfully saved cycle_s_000042.png to folder ./train.\n",
      "Successfully saved bike_s_000628.png to folder ./train.\n",
      "Successfully saved bike_s_000005.png to folder ./train.\n",
      "Successfully saved ordinary_bicycle_s_000324.png to folder ./train.\n",
      "Successfully saved motorcycle_s_000346.png to folder ./train.\n",
      "Successfully saved safety_bicycle_s_000789.png to folder ./train.\n",
      "Successfully saved ordinary_bicycle_s_000011.png to folder ./train.\n",
      "Successfully saved minibike_s_001157.png to folder ./train.\n",
      "Successfully saved bike_s_000051.png to folder ./train.\n",
      "Successfully saved motorcycle_s_000919.png to folder ./train.\n",
      "Successfully saved velocipede_s_001514.png to folder ./train.\n",
      "Successfully saved bike_s_001592.png to folder ./train.\n",
      "Successfully saved ordinary_bicycle_s_000066.png to folder ./train.\n",
      "Successfully saved bicycle_s_001470.png to folder ./train.\n",
      "Successfully saved motorcycle_s_001695.png to folder ./train.\n",
      "Successfully saved motorcycle_s_001215.png to folder ./train.\n",
      "Successfully saved bike_s_002098.png to folder ./train.\n",
      "Successfully saved bike_s_001928.png to folder ./train.\n",
      "Successfully saved bicycle_s_001748.png to folder ./train.\n",
      "Successfully saved motorcycle_s_001520.png to folder ./train.\n",
      "Successfully saved safety_bicycle_s_000728.png to folder ./train.\n",
      "Successfully saved motorcycle_s_000925.png to folder ./train.\n",
      "Successfully saved safety_bike_s_000914.png to folder ./train.\n",
      "Successfully saved safety_bike_s_001659.png to folder ./train.\n",
      "Successfully saved safety_bike_s_000155.png to folder ./train.\n",
      "Successfully saved bicycle_s_002153.png to folder ./train.\n",
      "Successfully saved safety_bike_s_001715.png to folder ./train.\n",
      "Successfully saved bicycle_s_000035.png to folder ./train.\n",
      "Successfully saved bicycle_s_002669.png to folder ./train.\n",
      "Successfully saved bike_s_002277.png to folder ./train.\n",
      "Successfully saved ordinary_bicycle_s_000265.png to folder ./train.\n",
      "Successfully saved bicycle_s_000369.png to folder ./train.\n",
      "Successfully saved velocipede_s_001298.png to folder ./train.\n",
      "Successfully saved minibike_s_001944.png to folder ./train.\n",
      "Successfully saved motorcycle_s_002215.png to folder ./train.\n",
      "Successfully saved ordinary_bicycle_s_000008.png to folder ./train.\n",
      "Successfully saved bicycle_s_000491.png to folder ./train.\n",
      "Successfully saved motorcycle_s_000146.png to folder ./train.\n",
      "Successfully saved minibike_s_001261.png to folder ./train.\n",
      "Successfully saved safety_bicycle_s_000140.png to folder ./train.\n",
      "Successfully saved motorcycle_s_000407.png to folder ./train.\n",
      "Successfully saved minibike_s_000099.png to folder ./train.\n",
      "Successfully saved motorcycle_s_001767.png to folder ./train.\n",
      "Successfully saved safety_bike_s_000263.png to folder ./train.\n",
      "Successfully saved motorcycle_s_001205.png to folder ./train.\n",
      "Successfully saved motorbike_s_000134.png to folder ./train.\n",
      "Successfully saved safety_bike_s_000245.png to folder ./train.\n",
      "Successfully saved motorcycle_s_000422.png to folder ./train.\n",
      "Successfully saved minibike_s_000800.png to folder ./train.\n",
      "Successfully saved minibike_s_001829.png to folder ./train.\n",
      "Successfully saved minibike_s_002124.png to folder ./train.\n",
      "Successfully saved bike_s_001414.png to folder ./train.\n",
      "Successfully saved motorcycle_s_000423.png to folder ./train.\n",
      "Successfully saved motorcycle_s_001435.png to folder ./train.\n",
      "Successfully saved motorcycle_s_001237.png to folder ./train.\n",
      "Successfully saved motorcycle_s_001878.png to folder ./train.\n",
      "Successfully saved cycle_s_002093.png to folder ./train.\n",
      "Successfully saved velocipede_s_000265.png to folder ./train.\n",
      "Successfully saved bike_s_001847.png to folder ./train.\n",
      "Successfully saved cycle_s_000463.png to folder ./train.\n",
      "Successfully saved motorcycle_s_002140.png to folder ./train.\n",
      "Successfully saved motorcycle_s_001246.png to folder ./train.\n",
      "Successfully saved bike_s_001517.png to folder ./train.\n",
      "Successfully saved motorcycle_s_000219.png to folder ./train.\n",
      "Successfully saved motorbike_s_000501.png to folder ./train.\n",
      "Successfully saved velocipede_s_001872.png to folder ./train.\n",
      "Successfully saved motorcycle_s_001337.png to folder ./train.\n",
      "Successfully saved motorcycle_s_000169.png to folder ./train.\n",
      "Successfully saved motorcycle_s_000347.png to folder ./train.\n",
      "Successfully saved ordinary_bicycle_s_000274.png to folder ./train.\n",
      "Successfully saved safety_bicycle_s_000196.png to folder ./train.\n",
      "Successfully saved bicycle_s_002049.png to folder ./train.\n",
      "Successfully saved minibike_s_000010.png to folder ./train.\n",
      "Successfully saved motorcycle_s_002121.png to folder ./train.\n",
      "Successfully saved motorbike_s_000060.png to folder ./train.\n",
      "Successfully saved motorbike_s_000534.png to folder ./train.\n",
      "Successfully saved ordinary_bicycle_s_000286.png to folder ./train.\n",
      "Successfully saved bicycle_s_000723.png to folder ./train.\n",
      "Successfully saved bicycle_s_000066.png to folder ./train.\n",
      "Successfully saved motorcycle_s_000741.png to folder ./train.\n",
      "Successfully saved minibike_s_001168.png to folder ./train.\n",
      "Successfully saved bike_s_000001.png to folder ./train.\n",
      "Successfully saved minibike_s_001491.png to folder ./train.\n",
      "Successfully saved motorcycle_s_000430.png to folder ./train.\n",
      "Successfully saved motorcycle_s_000026.png to folder ./train.\n",
      "Successfully saved bicycle_s_002448.png to folder ./train.\n",
      "Successfully saved cycle_s_001412.png to folder ./train.\n",
      "Successfully saved motorcycle_s_000714.png to folder ./train.\n",
      "Successfully saved motorcycle_s_000319.png to folder ./train.\n",
      "Successfully saved safety_bicycle_s_001254.png to folder ./train.\n",
      "Successfully saved ordinary_bicycle_s_000205.png to folder ./train.\n",
      "Successfully saved bicycle_s_002400.png to folder ./train.\n",
      "Successfully saved motorcycle_s_001126.png to folder ./train.\n",
      "Successfully saved bike_s_000364.png to folder ./train.\n",
      "Successfully saved ordinary_bicycle_s_000096.png to folder ./train.\n",
      "Successfully saved bike_s_000204.png to folder ./train.\n",
      "Successfully saved motorcycle_s_001181.png to folder ./train.\n",
      "Successfully saved minibike_s_001450.png to folder ./train.\n",
      "Successfully saved minibike_s_000130.png to folder ./train.\n",
      "Successfully saved motorcycle_s_002214.png to folder ./train.\n",
      "Successfully saved motorcycle_s_001263.png to folder ./train.\n",
      "Successfully saved minibike_s_000568.png to folder ./train.\n",
      "Successfully saved bicycle_s_000774.png to folder ./train.\n",
      "Successfully saved ordinary_bicycle_s_000125.png to folder ./train.\n",
      "Successfully saved minibike_s_001731.png to folder ./train.\n",
      "Successfully saved bicycle_s_000243.png to folder ./train.\n",
      "Successfully saved motorcycle_s_000029.png to folder ./train.\n",
      "Successfully saved velocipede_s_000023.png to folder ./train.\n",
      "Successfully saved minibike_s_001701.png to folder ./train.\n",
      "Successfully saved ordinary_bicycle_s_000035.png to folder ./train.\n",
      "Successfully saved safety_bike_s_000244.png to folder ./train.\n",
      "Successfully saved bicycle_s_000137.png to folder ./train.\n",
      "Successfully saved motorbike_s_000331.png to folder ./train.\n",
      "Successfully saved motorcycle_s_000120.png to folder ./train.\n",
      "Successfully saved velocipede_s_000989.png to folder ./train.\n",
      "Successfully saved moped_s_000135.png to folder ./train.\n",
      "Successfully saved bicycle_s_000569.png to folder ./train.\n",
      "Successfully saved safety_bicycle_s_001699.png to folder ./train.\n",
      "Successfully saved bicycle_s_000399.png to folder ./train.\n",
      "Successfully saved bike_s_002033.png to folder ./train.\n",
      "Successfully saved ordinary_bicycle_s_000280.png to folder ./train.\n",
      "Successfully saved bike_s_002283.png to folder ./train.\n",
      "Successfully saved cycle_s_001413.png to folder ./train.\n",
      "Successfully saved dirt_bike_s_000059.png to folder ./train.\n",
      "Successfully saved motorcycle_s_001699.png to folder ./train.\n",
      "Successfully saved motorcycle_s_000687.png to folder ./train.\n",
      "Successfully saved bike_s_000304.png to folder ./train.\n",
      "Successfully saved motorcycle_s_002192.png to folder ./train.\n",
      "Successfully saved motorcycle_s_000887.png to folder ./train.\n",
      "Successfully saved bike_s_002042.png to folder ./train.\n",
      "Successfully saved bicycle_s_000467.png to folder ./train.\n",
      "Successfully saved motorcycle_s_001706.png to folder ./train.\n",
      "Successfully saved minibike_s_002176.png to folder ./train.\n",
      "Successfully saved safety_bicycle_s_000760.png to folder ./train.\n",
      "Successfully saved bicycle_s_000546.png to folder ./train.\n",
      "Successfully saved safety_bike_s_000158.png to folder ./train.\n",
      "Successfully saved bicycle_s_001679.png to folder ./train.\n",
      "Successfully saved motorcycle_s_000924.png to folder ./train.\n",
      "Successfully saved bicycle_s_000996.png to folder ./train.\n",
      "Successfully saved motorcycle_s_000432.png to folder ./train.\n",
      "Successfully saved ordinary_bicycle_s_000277.png to folder ./train.\n",
      "Successfully saved bike_s_002164.png to folder ./train.\n",
      "Successfully saved minibike_s_000036.png to folder ./train.\n",
      "Successfully saved motorbike_s_000062.png to folder ./train.\n",
      "Successfully saved motorcycle_s_000133.png to folder ./train.\n",
      "Successfully saved safety_bike_s_000328.png to folder ./train.\n",
      "Successfully saved safety_bicycle_s_001028.png to folder ./train.\n",
      "Successfully saved minibike_s_001506.png to folder ./train.\n",
      "Successfully saved motorcycle_s_001549.png to folder ./train.\n",
      "Successfully saved bike_s_002292.png to folder ./train.\n",
      "Successfully saved bike_s_000121.png to folder ./train.\n",
      "Successfully saved motorcycle_s_001167.png to folder ./train.\n",
      "Successfully saved bicycle_s_000124.png to folder ./train.\n",
      "Successfully saved motorcycle_s_002237.png to folder ./train.\n",
      "Successfully saved velocipede_s_001870.png to folder ./train.\n",
      "Successfully saved moped_s_000119.png to folder ./train.\n",
      "Successfully saved minibike_s_000121.png to folder ./train.\n",
      "Successfully saved motorcycle_s_000928.png to folder ./train.\n",
      "Successfully saved minibike_s_001881.png to folder ./train.\n",
      "Successfully saved bike_s_000679.png to folder ./train.\n",
      "Successfully saved motorcycle_s_002183.png to folder ./train.\n",
      "Successfully saved bike_s_000111.png to folder ./train.\n",
      "Successfully saved bike_s_001260.png to folder ./train.\n",
      "Successfully saved safety_bicycle_s_000660.png to folder ./train.\n",
      "Successfully saved motorcycle_s_000695.png to folder ./train.\n",
      "Successfully saved safety_bicycle_s_000233.png to folder ./train.\n",
      "Successfully saved motorcycle_s_000792.png to folder ./train.\n",
      "Successfully saved motorcycle_s_000922.png to folder ./train.\n",
      "Successfully saved bicycle_s_002711.png to folder ./train.\n",
      "Successfully saved bike_s_000390.png to folder ./train.\n",
      "Successfully saved minibike_s_001094.png to folder ./train.\n",
      "Successfully saved minibike_s_000507.png to folder ./train.\n",
      "Successfully saved motorcycle_s_001213.png to folder ./train.\n",
      "Successfully saved bike_s_000154.png to folder ./train.\n",
      "Successfully saved motorcycle_s_000223.png to folder ./train.\n",
      "Successfully saved bicycle_s_002661.png to folder ./train.\n",
      "Successfully saved safety_bicycle_s_000232.png to folder ./train.\n",
      "Successfully saved bicycle_s_001663.png to folder ./train.\n",
      "Successfully saved motorbike_s_000463.png to folder ./train.\n",
      "Successfully saved minibike_s_002137.png to folder ./train.\n",
      "Successfully saved safety_bicycle_s_001651.png to folder ./train.\n",
      "Successfully saved motorcycle_s_000151.png to folder ./train.\n",
      "Successfully saved motorcycle_s_000217.png to folder ./train.\n",
      "Successfully saved bike_s_001877.png to folder ./train.\n",
      "Successfully saved velocipede_s_001278.png to folder ./train.\n",
      "Successfully saved minibike_s_001540.png to folder ./train.\n",
      "Successfully saved minibike_s_001885.png to folder ./train.\n",
      "Successfully saved velocipede_s_000012.png to folder ./train.\n",
      "Successfully saved bicycle_s_001956.png to folder ./train.\n",
      "Successfully saved ordinary_bicycle_s_000098.png to folder ./train.\n",
      "Successfully saved bicycle_s_002725.png to folder ./train.\n",
      "Successfully saved velocipede_s_001210.png to folder ./train.\n",
      "Successfully saved bicycle_s_000039.png to folder ./train.\n",
      "Successfully saved motorcycle_s_000654.png to folder ./train.\n",
      "Successfully saved safety_bike_s_000079.png to folder ./train.\n",
      "Successfully saved motorcycle_s_002291.png to folder ./train.\n",
      "Successfully saved cycle_s_002168.png to folder ./train.\n",
      "Successfully saved bike_s_001078.png to folder ./train.\n",
      "Successfully saved motorbike_s_000427.png to folder ./train.\n",
      "Successfully saved minibike_s_001921.png to folder ./train.\n",
      "Successfully saved motorcycle_s_000917.png to folder ./train.\n",
      "Successfully saved velocipede_s_001920.png to folder ./train.\n",
      "Successfully saved cycle_s_003026.png to folder ./train.\n",
      "Successfully saved motorcycle_s_000543.png to folder ./train.\n",
      "Successfully saved minibike_s_000491.png to folder ./train.\n",
      "Successfully saved motorcycle_s_001439.png to folder ./train.\n",
      "Successfully saved minibike_s_002084.png to folder ./train.\n",
      "Successfully saved bicycle_s_000775.png to folder ./train.\n",
      "Successfully saved motorcycle_s_000262.png to folder ./train.\n",
      "Successfully saved moped_s_000237.png to folder ./train.\n",
      "Successfully saved bicycle_s_000978.png to folder ./train.\n",
      "Successfully saved bike_s_000162.png to folder ./train.\n",
      "Successfully saved motorbike_s_000106.png to folder ./train.\n",
      "Successfully saved motorcycle_s_000136.png to folder ./train.\n",
      "Successfully saved motorcycle_s_001319.png to folder ./train.\n",
      "Successfully saved safety_bicycle_s_000125.png to folder ./train.\n",
      "Successfully saved bicycle_s_001402.png to folder ./train.\n",
      "Successfully saved minibike_s_000511.png to folder ./train.\n",
      "Successfully saved motorcycle_s_000332.png to folder ./train.\n",
      "Successfully saved motorcycle_s_001315.png to folder ./train.\n",
      "Successfully saved ordinary_bicycle_s_000031.png to folder ./train.\n",
      "Successfully saved motorcycle_s_000353.png to folder ./train.\n",
      "Successfully saved motorcycle_s_000521.png to folder ./train.\n",
      "Successfully saved safety_bicycle_s_000860.png to folder ./train.\n",
      "Successfully saved motorcycle_s_002153.png to folder ./train.\n",
      "Successfully saved safety_bicycle_s_000324.png to folder ./train.\n",
      "Successfully saved ordinary_bicycle_s_000112.png to folder ./train.\n",
      "Successfully saved motorbike_s_000068.png to folder ./train.\n",
      "Successfully saved motorcycle_s_002254.png to folder ./train.\n",
      "Successfully saved motorcycle_s_000989.png to folder ./train.\n",
      "Successfully saved motorcycle_s_000622.png to folder ./train.\n",
      "Successfully saved bike_s_000545.png to folder ./train.\n",
      "Successfully saved ordinary_bicycle_s_000099.png to folder ./train.\n",
      "Successfully saved safety_bike_s_001257.png to folder ./train.\n",
      "Successfully saved bicycle_s_001203.png to folder ./train.\n",
      "Successfully saved safety_bicycle_s_001085.png to folder ./train.\n",
      "Successfully saved motorcycle_s_002222.png to folder ./train.\n",
      "Successfully saved safety_bicycle_s_001639.png to folder ./train.\n",
      "Successfully saved velocipede_s_001222.png to folder ./train.\n",
      "Successfully saved minibike_s_000392.png to folder ./train.\n",
      "Successfully saved ordinary_bicycle_s_000308.png to folder ./train.\n",
      "Successfully saved motorcycle_s_001896.png to folder ./train.\n",
      "Successfully saved motorcycle_s_000325.png to folder ./train.\n",
      "Successfully saved bicycle_s_000986.png to folder ./train.\n",
      "Successfully saved safety_bicycle_s_000373.png to folder ./train.\n",
      "Successfully saved safety_bicycle_s_000348.png to folder ./train.\n",
      "Successfully saved bicycle_s_002005.png to folder ./train.\n",
      "Successfully saved minibike_s_002130.png to folder ./train.\n",
      "Successfully saved safety_bike_s_000867.png to folder ./train.\n",
      "Successfully saved bicycle_s_002475.png to folder ./train.\n",
      "Successfully saved minibike_s_001193.png to folder ./train.\n",
      "Successfully saved minibike_s_001366.png to folder ./train.\n",
      "Successfully saved motorcycle_s_001711.png to folder ./train.\n",
      "Successfully saved minibike_s_001275.png to folder ./train.\n",
      "Successfully saved velocipede_s_001907.png to folder ./train.\n",
      "Successfully saved motorcycle_s_000207.png to folder ./train.\n",
      "Successfully saved motorcycle_s_001409.png to folder ./train.\n",
      "Successfully saved safety_bicycle_s_000261.png to folder ./train.\n",
      "Successfully saved minibike_s_000738.png to folder ./train.\n",
      "Successfully saved motorcycle_s_001106.png to folder ./train.\n",
      "Successfully saved safety_bike_s_000198.png to folder ./train.\n",
      "Successfully saved minibike_s_001479.png to folder ./train.\n",
      "Successfully saved velocipede_s_000430.png to folder ./train.\n",
      "Successfully saved bicycle_s_001409.png to folder ./train.\n",
      "Successfully saved motorcycle_s_000938.png to folder ./train.\n",
      "Successfully saved motorcycle_s_000941.png to folder ./train.\n",
      "Successfully saved bicycle_s_000038.png to folder ./train.\n",
      "Successfully saved minibike_s_001016.png to folder ./train.\n",
      "Successfully saved velocipede_s_001200.png to folder ./train.\n",
      "Successfully saved bike_s_002109.png to folder ./train.\n",
      "Successfully saved cycle_s_002092.png to folder ./train.\n",
      "Successfully saved motorcycle_s_002066.png to folder ./train.\n",
      "Successfully saved motorcycle_s_001920.png to folder ./train.\n",
      "Successfully saved minibike_s_000459.png to folder ./train.\n",
      "Successfully saved bicycle_s_001904.png to folder ./train.\n",
      "Successfully saved minibike_s_001996.png to folder ./train.\n",
      "Successfully saved motorcycle_s_001611.png to folder ./train.\n",
      "Successfully saved velocipede_s_001141.png to folder ./train.\n",
      "Successfully saved minibike_s_001747.png to folder ./train.\n",
      "Successfully saved safety_bicycle_s_001029.png to folder ./train.\n",
      "Successfully saved ordinary_bicycle_s_000029.png to folder ./train.\n",
      "Successfully saved minibike_s_002163.png to folder ./train.\n",
      "Successfully saved safety_bike_s_001148.png to folder ./train.\n",
      "Successfully saved cycle_s_003008.png to folder ./train.\n",
      "Successfully saved bicycle_s_000099.png to folder ./train.\n",
      "Successfully saved minibike_s_000429.png to folder ./train.\n",
      "Successfully saved bike_s_000003.png to folder ./train.\n",
      "Successfully saved cycle_s_002178.png to folder ./train.\n",
      "Successfully saved cycle_s_000639.png to folder ./train.\n",
      "Successfully saved motorcycle_s_000734.png to folder ./train.\n",
      "Successfully saved motorcycle_s_000309.png to folder ./train.\n",
      "Successfully saved bicycle_s_000371.png to folder ./train.\n",
      "Successfully saved minibike_s_001270.png to folder ./train.\n",
      "Successfully saved minibike_s_000914.png to folder ./train.\n",
      "Successfully saved moped_s_000021.png to folder ./train.\n",
      "Successfully saved motorcycle_s_000242.png to folder ./train.\n",
      "Successfully saved minibike_s_000314.png to folder ./train.\n",
      "Successfully saved motorcycle_s_000698.png to folder ./train.\n",
      "Successfully saved motorcycle_s_001360.png to folder ./train.\n",
      "Successfully saved ordinary_bicycle_s_000157.png to folder ./train.\n",
      "Successfully saved minibike_s_001838.png to folder ./train.\n",
      "Successfully saved bicycle_s_002247.png to folder ./train.\n",
      "Successfully saved motorcycle_s_000027.png to folder ./train.\n",
      "Successfully saved minibike_s_000906.png to folder ./train.\n",
      "Successfully saved safety_bicycle_s_000500.png to folder ./train.\n",
      "Successfully saved minibike_s_002146.png to folder ./train.\n",
      "Successfully saved motorcycle_s_001242.png to folder ./train.\n",
      "Successfully saved motorcycle_s_001707.png to folder ./train.\n",
      "Successfully saved cycle_s_003043.png to folder ./train.\n",
      "Successfully saved safety_bicycle_s_001109.png to folder ./train.\n",
      "Successfully saved bike_s_001131.png to folder ./train.\n",
      "Successfully saved motorcycle_s_001118.png to folder ./train.\n",
      "Successfully saved bike_s_001418.png to folder ./train.\n",
      "Successfully saved bicycle_s_002550.png to folder ./train.\n",
      "Successfully saved bicycle_s_002100.png to folder ./train.\n",
      "Successfully saved motorcycle_s_000933.png to folder ./train.\n",
      "Successfully saved bicycle_s_002624.png to folder ./train.\n",
      "Successfully saved safety_bicycle_s_001063.png to folder ./train.\n",
      "Successfully saved motorbike_s_000361.png to folder ./train.\n",
      "Successfully saved safety_bicycle_s_000193.png to folder ./train.\n",
      "Successfully saved safety_bicycle_s_000092.png to folder ./train.\n",
      "Successfully saved motorcycle_s_000009.png to folder ./train.\n",
      "Successfully saved bicycle_s_001554.png to folder ./train.\n",
      "Successfully saved motorcycle_s_001297.png to folder ./train.\n",
      "Successfully saved safety_bicycle_s_000296.png to folder ./train.\n",
      "Successfully saved safety_bike_s_001371.png to folder ./train.\n",
      "Successfully saved bicycle_s_001569.png to folder ./train.\n",
      "Successfully saved motorcycle_s_001536.png to folder ./train.\n",
      "Successfully saved safety_bicycle_s_001659.png to folder ./train.\n",
      "Successfully saved ordinary_bicycle_s_000102.png to folder ./train.\n",
      "Successfully saved bike_s_002215.png to folder ./train.\n",
      "Successfully saved bicycle_s_002410.png to folder ./train.\n",
      "Successfully saved cycle_s_003147.png to folder ./train.\n",
      "Successfully saved bicycle_s_002759.png to folder ./train.\n",
      "Successfully saved minibike_s_000335.png to folder ./train.\n",
      "Successfully saved safety_bike_s_000848.png to folder ./train.\n",
      "Successfully saved velocipede_s_000807.png to folder ./train.\n",
      "Successfully saved bike_s_000024.png to folder ./train.\n",
      "Successfully saved minibike_s_000435.png to folder ./train.\n",
      "Successfully saved minibike_s_001498.png to folder ./train.\n",
      "Successfully saved velocipede_s_001166.png to folder ./train.\n",
      "Successfully saved motorcycle_s_001012.png to folder ./train.\n",
      "Successfully saved velocipede_s_000330.png to folder ./train.\n",
      "Successfully saved motorcycle_s_000032.png to folder ./train.\n",
      "Successfully saved minibike_s_001597.png to folder ./train.\n",
      "Successfully saved motorcycle_s_002298.png to folder ./train.\n",
      "Successfully saved minibike_s_000102.png to folder ./train.\n",
      "Successfully saved motorcycle_s_001507.png to folder ./train.\n",
      "Successfully saved motorbike_s_000022.png to folder ./train.\n",
      "Successfully saved motorcycle_s_000594.png to folder ./train.\n",
      "Successfully saved minibike_s_001539.png to folder ./train.\n",
      "Successfully saved bicycle_s_001228.png to folder ./train.\n",
      "Successfully saved minibike_s_001344.png to folder ./train.\n",
      "Successfully saved motorcycle_s_002271.png to folder ./train.\n",
      "Successfully saved motorcycle_s_000791.png to folder ./train.\n",
      "Successfully saved ordinary_bicycle_s_000218.png to folder ./train.\n",
      "Successfully saved motorcycle_s_000221.png to folder ./train.\n",
      "Successfully saved minibike_s_001691.png to folder ./train.\n",
      "Successfully saved motorcycle_s_001209.png to folder ./train.\n",
      "Successfully saved ordinary_bicycle_s_000101.png to folder ./train.\n",
      "Successfully saved motorcycle_s_001326.png to folder ./train.\n",
      "Successfully saved minibike_s_001249.png to folder ./train.\n",
      "Successfully saved bicycle_s_000408.png to folder ./train.\n",
      "Successfully saved minibike_s_000520.png to folder ./train.\n",
      "Successfully saved minibike_s_002218.png to folder ./train.\n",
      "Successfully saved minibike_s_001458.png to folder ./train.\n",
      "Successfully saved moped_s_000034.png to folder ./train.\n",
      "Successfully saved motorbike_s_000119.png to folder ./train.\n",
      "Successfully saved motorcycle_s_001027.png to folder ./train.\n",
      "Successfully saved cycle_s_001477.png to folder ./train.\n",
      "Successfully saved motorcycle_s_001710.png to folder ./train.\n",
      "Successfully saved minibike_s_000434.png to folder ./train.\n",
      "Successfully saved motorcycle_s_000979.png to folder ./train.\n",
      "Successfully saved safety_bike_s_001289.png to folder ./train.\n",
      "Successfully saved safety_bike_s_001560.png to folder ./train.\n",
      "Successfully saved minibike_s_000011.png to folder ./train.\n",
      "Successfully saved bicycle_s_001642.png to folder ./train.\n",
      "Successfully saved minibike_s_000527.png to folder ./train.\n",
      "Successfully saved bicycle_s_001245.png to folder ./train.\n",
      "Successfully saved bike_s_000934.png to folder ./train.\n",
      "Successfully saved velocipede_s_001244.png to folder ./train.\n",
      "Successfully saved velocipede_s_001882.png to folder ./train.\n",
      "Successfully saved bike_s_001683.png to folder ./train.\n",
      "Successfully saved minibike_s_000127.png to folder ./train.\n",
      "Successfully saved bicycle_s_001002.png to folder ./train.\n",
      "Successfully saved moped_s_000044.png to folder ./train.\n",
      "Successfully saved bike_s_000025.png to folder ./train.\n",
      "Successfully saved minibike_s_000690.png to folder ./train.\n",
      "Successfully saved minibike_s_000022.png to folder ./train.\n",
      "Successfully saved motorcycle_s_001196.png to folder ./train.\n",
      "Successfully saved ordinary_bicycle_s_000269.png to folder ./train.\n",
      "Successfully saved cycle_s_002503.png to folder ./train.\n",
      "Successfully saved ordinary_bicycle_s_000097.png to folder ./train.\n",
      "Successfully saved safety_bike_s_000009.png to folder ./train.\n",
      "Successfully saved safety_bike_s_000015.png to folder ./train.\n",
      "Successfully saved minibike_s_000613.png to folder ./train.\n",
      "Successfully saved motorcycle_s_001017.png to folder ./train.\n",
      "Successfully saved minibike_s_000203.png to folder ./train.\n",
      "Successfully saved velocipede_s_001489.png to folder ./train.\n",
      "Successfully saved minibike_s_000813.png to folder ./train.\n",
      "Successfully saved safety_bicycle_s_000425.png to folder ./train.\n",
      "Successfully saved motorcycle_s_001622.png to folder ./train.\n",
      "Successfully saved motorcycle_s_000593.png to folder ./train.\n",
      "Successfully saved minibike_s_000116.png to folder ./train.\n",
      "Successfully saved motorcycle_s_001563.png to folder ./train.\n",
      "Successfully saved cycle_s_001875.png to folder ./train.\n",
      "Successfully saved safety_bike_s_001590.png to folder ./train.\n",
      "Successfully saved minibike_s_000830.png to folder ./train.\n",
      "Successfully saved minibike_s_000570.png to folder ./train.\n",
      "Successfully saved bike_s_001380.png to folder ./train.\n",
      "Successfully saved moped_s_000236.png to folder ./train.\n",
      "Successfully saved motorcycle_s_000339.png to folder ./train.\n",
      "Successfully saved safety_bike_s_001465.png to folder ./train.\n",
      "Successfully saved motorcycle_s_001714.png to folder ./train.\n",
      "Successfully saved minibike_s_001191.png to folder ./train.\n",
      "Successfully saved cycle_s_002882.png to folder ./train.\n",
      "Successfully saved bicycle_s_000822.png to folder ./train.\n",
      "Successfully saved bike_s_001827.png to folder ./train.\n",
      "Successfully saved ordinary_bicycle_s_000110.png to folder ./train.\n",
      "Successfully saved minibike_s_000293.png to folder ./train.\n",
      "Successfully saved motorcycle_s_000249.png to folder ./train.\n",
      "Successfully saved ordinary_bicycle_s_000154.png to folder ./train.\n",
      "Successfully saved motorcycle_s_001527.png to folder ./train.\n",
      "Successfully saved motorcycle_s_001033.png to folder ./train.\n",
      "Successfully saved motorcycle_s_001709.png to folder ./train.\n",
      "Successfully saved bicycle_s_001348.png to folder ./train.\n",
      "Successfully saved minibike_s_002194.png to folder ./train.\n",
      "Successfully saved minibike_s_001079.png to folder ./train.\n",
      "Successfully saved bicycle_s_000017.png to folder ./train.\n",
      "Successfully saved minibike_s_001638.png to folder ./train.\n",
      "Successfully saved motorcycle_s_001587.png to folder ./train.\n",
      "Successfully saved motorcycle_s_000486.png to folder ./train.\n",
      "Successfully saved minibike_s_001880.png to folder ./train.\n",
      "Successfully saved dirt_bike_s_000003.png to folder ./train.\n",
      "Successfully saved bike_s_000336.png to folder ./train.\n",
      "Successfully saved minibike_s_002115.png to folder ./train.\n",
      "Successfully saved motorbike_s_000449.png to folder ./train.\n",
      "Successfully saved motorcycle_s_000304.png to folder ./train.\n",
      "Successfully saved motorcycle_s_000022.png to folder ./train.\n",
      "Successfully saved motorcycle_s_001623.png to folder ./train.\n",
      "Successfully saved motorbike_s_000223.png to folder ./train.\n",
      "Successfully saved motorcycle_s_000290.png to folder ./train.\n",
      "Successfully saved safety_bicycle_s_001327.png to folder ./train.\n",
      "Successfully saved bike_s_002288.png to folder ./train.\n",
      "Successfully saved minibike_s_000569.png to folder ./train.\n",
      "Successfully saved bike_s_002047.png to folder ./train.\n",
      "Successfully saved motorcycle_s_002031.png to folder ./train.\n",
      "Successfully saved bike_s_000062.png to folder ./train.\n",
      "Successfully saved cycle_s_000871.png to folder ./train.\n",
      "Successfully saved motorcycle_s_001778.png to folder ./train.\n",
      "Successfully saved velocipede_s_000010.png to folder ./train.\n",
      "Successfully saved motorcycle_s_001247.png to folder ./train.\n",
      "Successfully saved motorcycle_s_000724.png to folder ./train.\n",
      "Successfully saved velocipede_s_001637.png to folder ./train.\n",
      "Successfully saved motorcycle_s_000291.png to folder ./train.\n",
      "Successfully saved safety_bike_s_000390.png to folder ./test.\n",
      "Successfully saved bike_s_000658.png to folder ./test.\n",
      "Successfully saved velocipede_s_001744.png to folder ./test.\n",
      "Successfully saved bike_s_000643.png to folder ./test.\n",
      "Successfully saved ordinary_bicycle_s_000437.png to folder ./test.\n",
      "Successfully saved motorcycle_s_000323.png to folder ./test.\n",
      "Successfully saved safety_bike_s_001253.png to folder ./test.\n",
      "Successfully saved cycle_s_001306.png to folder ./test.\n",
      "Successfully saved velocipede_s_000863.png to folder ./test.\n",
      "Successfully saved bicycle_s_000479.png to folder ./test.\n",
      "Successfully saved minibike_s_002173.png to folder ./test.\n",
      "Successfully saved motorcycle_s_000352.png to folder ./test.\n",
      "Successfully saved bike_s_000801.png to folder ./test.\n",
      "Successfully saved motorbike_s_000433.png to folder ./test.\n",
      "Successfully saved bike_s_001068.png to folder ./test.\n",
      "Successfully saved motorcycle_s_000963.png to folder ./test.\n",
      "Successfully saved bike_s_001852.png to folder ./test.\n",
      "Successfully saved motorcycle_s_000139.png to folder ./test.\n",
      "Successfully saved motorbike_s_000465.png to folder ./test.\n",
      "Successfully saved bicycle_s_000513.png to folder ./test.\n",
      "Successfully saved cycle_s_002305.png to folder ./test.\n",
      "Successfully saved motorcycle_s_000615.png to folder ./test.\n",
      "Successfully saved moped_s_000306.png to folder ./test.\n",
      "Successfully saved minibike_s_000052.png to folder ./test.\n",
      "Successfully saved bike_s_001342.png to folder ./test.\n",
      "Successfully saved cycle_s_001297.png to folder ./test.\n",
      "Successfully saved motorcycle_s_001955.png to folder ./test.\n",
      "Successfully saved cycle_s_001953.png to folder ./test.\n",
      "Successfully saved motorcycle_s_000494.png to folder ./test.\n",
      "Successfully saved motorcycle_s_001249.png to folder ./test.\n",
      "Successfully saved velocipede_s_000292.png to folder ./test.\n",
      "Successfully saved minibike_s_001651.png to folder ./test.\n",
      "Successfully saved bicycle_s_001102.png to folder ./test.\n",
      "Successfully saved safety_bike_s_001132.png to folder ./test.\n",
      "Successfully saved moped_s_000007.png to folder ./test.\n",
      "Successfully saved motorcycle_s_000211.png to folder ./test.\n",
      "Successfully saved cycle_s_000970.png to folder ./test.\n",
      "Successfully saved motorcycle_s_002126.png to folder ./test.\n",
      "Successfully saved minibike_s_001732.png to folder ./test.\n",
      "Successfully saved minibike_s_001867.png to folder ./test.\n",
      "Successfully saved minibike_s_002227.png to folder ./test.\n",
      "Successfully saved cycle_s_000068.png to folder ./test.\n",
      "Successfully saved minibike_s_000880.png to folder ./test.\n",
      "Successfully saved moped_s_000033.png to folder ./test.\n",
      "Successfully saved bicycle_s_001107.png to folder ./test.\n",
      "Successfully saved bike_s_002116.png to folder ./test.\n",
      "Successfully saved bike_s_001738.png to folder ./test.\n",
      "Successfully saved bike_s_002009.png to folder ./test.\n",
      "Successfully saved minibike_s_000947.png to folder ./test.\n",
      "Successfully saved bike_s_001159.png to folder ./test.\n",
      "Successfully saved safety_bike_s_001065.png to folder ./test.\n",
      "Successfully saved motorbike_s_000005.png to folder ./test.\n",
      "Successfully saved minibike_s_000075.png to folder ./test.\n",
      "Successfully saved motorcycle_s_001164.png to folder ./test.\n",
      "Successfully saved motorcycle_s_000679.png to folder ./test.\n",
      "Successfully saved motorcycle_s_001892.png to folder ./test.\n",
      "Successfully saved bike_s_000694.png to folder ./test.\n",
      "Successfully saved velocipede_s_000106.png to folder ./test.\n",
      "Successfully saved velocipede_s_000001.png to folder ./test.\n",
      "Successfully saved motorcycle_s_002177.png to folder ./test.\n",
      "Successfully saved motorbike_s_000126.png to folder ./test.\n",
      "Successfully saved safety_bicycle_s_001286.png to folder ./test.\n",
      "Successfully saved motorcycle_s_001936.png to folder ./test.\n",
      "Successfully saved safety_bike_s_001087.png to folder ./test.\n",
      "Successfully saved cycle_s_001648.png to folder ./test.\n",
      "Successfully saved minibike_s_000801.png to folder ./test.\n",
      "Successfully saved motorcycle_s_000427.png to folder ./test.\n",
      "Successfully saved minibike_s_001089.png to folder ./test.\n",
      "Successfully saved motorcycle_s_000530.png to folder ./test.\n",
      "Successfully saved velocipede_s_001232.png to folder ./test.\n",
      "Successfully saved motorcycle_s_001261.png to folder ./test.\n",
      "Successfully saved velocipede_s_001466.png to folder ./test.\n",
      "Successfully saved motorcycle_s_001269.png to folder ./test.\n",
      "Successfully saved bicycle_s_000776.png to folder ./test.\n",
      "Successfully saved motorcycle_s_001348.png to folder ./test.\n",
      "Successfully saved motorcycle_s_002026.png to folder ./test.\n",
      "Successfully saved safety_bike_s_000540.png to folder ./test.\n",
      "Successfully saved safety_bicycle_s_000280.png to folder ./test.\n",
      "Successfully saved bike_s_000131.png to folder ./test.\n",
      "Successfully saved cycle_s_000010.png to folder ./test.\n",
      "Successfully saved minibike_s_000828.png to folder ./test.\n",
      "Successfully saved minibike_s_000288.png to folder ./test.\n",
      "Successfully saved velocipede_s_001355.png to folder ./test.\n",
      "Successfully saved safety_bicycle_s_001575.png to folder ./test.\n",
      "Successfully saved safety_bike_s_001690.png to folder ./test.\n",
      "Successfully saved cycle_s_001044.png to folder ./test.\n",
      "Successfully saved motorcycle_s_000063.png to folder ./test.\n",
      "Successfully saved velocipede_s_001379.png to folder ./test.\n",
      "Successfully saved minibike_s_001441.png to folder ./test.\n",
      "Successfully saved motorcycle_s_000797.png to folder ./test.\n",
      "Successfully saved velocipede_s_001790.png to folder ./test.\n",
      "Successfully saved motorbike_s_000135.png to folder ./test.\n",
      "Successfully saved cycle_s_002613.png to folder ./test.\n",
      "Successfully saved motorcycle_s_001960.png to folder ./test.\n",
      "Successfully saved minibike_s_000913.png to folder ./test.\n",
      "Successfully saved motorcycle_s_000685.png to folder ./test.\n",
      "Successfully saved ordinary_bicycle_s_000431.png to folder ./test.\n",
      "Successfully saved minibike_s_002051.png to folder ./test.\n",
      "Successfully saved motorcycle_s_000446.png to folder ./test.\n",
      "Successfully saved velocipede_s_001699.png to folder ./test.\n",
      "Successfully saved minibike_s_000792.png to folder ./test.\n",
      "Successfully saved bicycle_s_002458.png to folder ./test.\n",
      "Successfully saved minibike_s_000505.png to folder ./test.\n",
      "Successfully saved minibike_s_000573.png to folder ./test.\n",
      "Successfully saved velocipede_s_000369.png to folder ./test.\n",
      "Successfully saved moped_s_000064.png to folder ./test.\n",
      "Successfully saved minibike_s_001893.png to folder ./test.\n",
      "Successfully saved motorcycle_s_000878.png to folder ./test.\n",
      "Successfully saved motorcycle_s_000042.png to folder ./test.\n",
      "Successfully saved motorcycle_s_000606.png to folder ./test.\n",
      "Successfully saved minibike_s_002230.png to folder ./test.\n",
      "Successfully saved motorcycle_s_001519.png to folder ./test.\n",
      "Successfully saved motorcycle_s_000512.png to folder ./test.\n",
      "Successfully saved cycle_s_001915.png to folder ./test.\n",
      "Successfully saved safety_bike_s_000541.png to folder ./test.\n",
      "Successfully saved safety_bike_s_000192.png to folder ./test.\n",
      "Successfully saved bicycle_s_000030.png to folder ./test.\n",
      "Successfully saved motorcycle_s_001385.png to folder ./test.\n",
      "Successfully saved minibike_s_000960.png to folder ./test.\n",
      "Successfully saved safety_bike_s_000791.png to folder ./test.\n",
      "Successfully saved bike_s_000071.png to folder ./test.\n",
      "Successfully saved motorcycle_s_000876.png to folder ./test.\n",
      "Successfully saved ordinary_bicycle_s_000350.png to folder ./test.\n",
      "Successfully saved motorcycle_s_000602.png to folder ./test.\n",
      "Successfully saved motorcycle_s_000222.png to folder ./test.\n",
      "Successfully saved minibike_s_000309.png to folder ./test.\n",
      "Successfully saved motorcycle_s_001679.png to folder ./test.\n",
      "Successfully saved minibike_s_001473.png to folder ./test.\n",
      "Successfully saved velocipede_s_001633.png to folder ./test.\n",
      "Successfully saved safety_bike_s_000438.png to folder ./test.\n",
      "Successfully saved safety_bicycle_s_000315.png to folder ./test.\n",
      "Successfully saved motorcycle_s_002112.png to folder ./test.\n",
      "Successfully saved bike_s_000163.png to folder ./test.\n",
      "Successfully saved bicycle_s_000059.png to folder ./test.\n",
      "Successfully saved bicycle_s_001789.png to folder ./test.\n",
      "Successfully saved safety_bike_s_000699.png to folder ./test.\n",
      "Successfully saved motorbike_s_000324.png to folder ./test.\n",
      "Successfully saved motorcycle_s_000485.png to folder ./test.\n",
      "Successfully saved motorcycle_s_001687.png to folder ./test.\n",
      "Successfully saved minibike_s_000497.png to folder ./test.\n",
      "Successfully saved minibike_s_001547.png to folder ./test.\n",
      "Successfully saved minibike_s_000055.png to folder ./test.\n",
      "Successfully saved ordinary_bicycle_s_000169.png to folder ./test.\n",
      "Successfully saved minibike_s_000290.png to folder ./test.\n",
      "Successfully saved velocipede_s_001335.png to folder ./test.\n",
      "Successfully saved bicycle_s_001804.png to folder ./test.\n",
      "Successfully saved safety_bike_s_000488.png to folder ./test.\n",
      "Successfully saved bike_s_001216.png to folder ./test.\n",
      "Successfully saved motorbike_s_000121.png to folder ./test.\n",
      "Successfully saved bike_s_001073.png to folder ./test.\n",
      "Successfully saved safety_bicycle_s_001153.png to folder ./test.\n",
      "Successfully saved motorcycle_s_000171.png to folder ./test.\n",
      "Successfully saved velocipede_s_000041.png to folder ./test.\n",
      "Successfully saved motorcycle_s_001782.png to folder ./test.\n",
      "Successfully saved motorbike_s_000629.png to folder ./test.\n",
      "Successfully saved bicycle_s_000977.png to folder ./test.\n",
      "Successfully saved motorcycle_s_001906.png to folder ./test.\n",
      "Successfully saved bike_s_002208.png to folder ./test.\n",
      "Successfully saved minibike_s_000254.png to folder ./test.\n",
      "Successfully saved safety_bicycle_s_001322.png to folder ./test.\n",
      "Successfully saved bike_s_000041.png to folder ./test.\n",
      "Successfully saved bicycle_s_000031.png to folder ./test.\n",
      "Successfully saved bicycle_s_000779.png to folder ./test.\n",
      "Successfully saved velocipede_s_001277.png to folder ./test.\n",
      "Successfully saved safety_bike_s_001088.png to folder ./test.\n",
      "Successfully saved motorcycle_s_001971.png to folder ./test.\n",
      "Successfully saved bike_s_001784.png to folder ./test.\n",
      "Successfully saved motorcycle_s_000825.png to folder ./test.\n",
      "Successfully saved dirt_bike_s_000001.png to folder ./test.\n",
      "Successfully saved cycle_s_001214.png to folder ./test.\n",
      "Successfully saved cycle_s_002964.png to folder ./test.\n",
      "Successfully saved ordinary_bicycle_s_000284.png to folder ./test.\n",
      "Successfully saved bicycle_s_002735.png to folder ./test.\n",
      "Successfully saved motorcycle_s_000450.png to folder ./test.\n",
      "Successfully saved motorcycle_s_000049.png to folder ./test.\n",
      "Successfully saved motorcycle_s_000866.png to folder ./test.\n",
      "Successfully saved velocipede_s_001201.png to folder ./test.\n",
      "Successfully saved bike_s_000457.png to folder ./test.\n",
      "Successfully saved bike_s_000330.png to folder ./test.\n",
      "Successfully saved minibike_s_001605.png to folder ./test.\n",
      "Successfully saved minibike_s_000398.png to folder ./test.\n",
      "Successfully saved motorcycle_s_000007.png to folder ./test.\n",
      "Successfully saved motorcycle_s_000040.png to folder ./test.\n",
      "Successfully saved motorcycle_s_000739.png to folder ./test.\n",
      "Successfully saved motorbike_s_000333.png to folder ./test.\n",
      "Successfully saved safety_bike_s_001481.png to folder ./test.\n",
      "Successfully saved ordinary_bicycle_s_000158.png to folder ./test.\n",
      "Successfully saved motorcycle_s_001508.png to folder ./test.\n",
      "Successfully saved motorcycle_s_000060.png to folder ./test.\n",
      "Successfully saved cycle_s_002661.png to folder ./test.\n",
      "Successfully saved bicycle_s_001047.png to folder ./test.\n",
      "Successfully saved bicycle_s_000777.png to folder ./test.\n",
      "Successfully saved safety_bicycle_s_000235.png to folder ./test.\n",
      "Successfully saved bike_s_000487.png to folder ./test.\n",
      "Successfully saved ordinary_bicycle_s_000113.png to folder ./test.\n",
      "Successfully saved trail_bike_s_000073.png to folder ./test.\n",
      "Successfully saved bike_s_000941.png to folder ./test.\n",
      "Successfully saved motorcycle_s_000141.png to folder ./test.\n",
      "Successfully saved ordinary_bicycle_s_000105.png to folder ./test.\n",
      "Successfully saved bicycle_s_001218.png to folder ./test.\n"
     ]
    }
   ],
   "source": [
    "## TODO: save ALL images using the save_images function\n",
    "#Saving all the Train dataset images\n",
    "for df_row in df_train.itertuples():\n",
    "    print(save_images(df_row.row, df_row.filenames,\"./train\", dataset_train))\n",
    "\n",
    "#Saving all the Test dataset images\n",
    "for df_row in df_test.itertuples():\n",
    "    print(save_images(df_row.row, df_row.filenames,\"./test\", dataset_test))\n"
   ]
  },
  {
   "cell_type": "markdown",
   "metadata": {},
   "source": [
    "### 3. Load the data\n",
    "\n",
    "Now we can load the data into S3.\n",
    "\n",
    "Using the sagemaker SDK grab the current region, execution role, and bucket."
   ]
  },
  {
   "cell_type": "code",
   "execution_count": 4,
   "metadata": {
    "tags": []
   },
   "outputs": [
    {
     "name": "stdout",
     "output_type": "stream",
     "text": [
      "Default Bucket: sagemaker-us-east-1-761422902711\n",
      "AWS Region: us-east-1\n",
      "RoleArn: arn:aws:iam::761422902711:role/MLOps-DS-ROLE\n"
     ]
    }
   ],
   "source": [
    "import sagemaker\n",
    "\n",
    "session = sagemaker.Session()\n",
    "\n",
    "bucket= session.default_bucket()\n",
    "print(\"Default Bucket: {}\".format(bucket))\n",
    "\n",
    "region = session.boto_region_name\n",
    "print(\"AWS Region: {}\".format(region))\n",
    "\n",
    "role = sagemaker.get_execution_role()\n",
    "print(\"RoleArn: {}\".format(role))"
   ]
  },
  {
   "cell_type": "markdown",
   "metadata": {},
   "source": [
    "With this data we can easily sync your data up into S3!"
   ]
  },
  {
   "cell_type": "code",
   "execution_count": 5,
   "metadata": {
    "tags": []
   },
   "outputs": [],
   "source": [
    "import os\n",
    "\n",
    "os.environ[\"DEFAULT_S3_BUCKET\"] = bucket\n",
    "!aws s3 sync ./train s3://${DEFAULT_S3_BUCKET}/train/\n",
    "!aws s3 sync ./test s3://${DEFAULT_S3_BUCKET}/test/"
   ]
  },
  {
   "cell_type": "markdown",
   "metadata": {},
   "source": [
    "And that's it! You can check the bucket and verify that the items were uploaded.\n",
    "\n",
    "## Model Training\n",
    "\n",
    "For Image Classification, Sagemaker [also expects metadata](https://docs.aws.amazon.com/sagemaker/latest/dg/image-classification.html) e.g. in the form of TSV files with labels and filepaths. We can generate these using our Pandas DataFrames from earlier:"
   ]
  },
  {
   "cell_type": "code",
   "execution_count": 13,
   "metadata": {
    "tags": []
   },
   "outputs": [],
   "source": [
    "def to_metadata_file(df, prefix):\n",
    "    df[\"s3_path\"] = df[\"filenames\"]\n",
    "    df[\"labels\"] = df[\"labels\"].apply(lambda x: 0 if x==8 else 1)\n",
    "    return df[[\"row\", \"labels\", \"s3_path\"]].to_csv(\n",
    "        f\"{prefix}.lst\", sep=\"\\t\", index=False, header=False\n",
    "    )\n",
    "    \n",
    "to_metadata_file(df_train.copy(), \"train\")\n",
    "to_metadata_file(df_test.copy(), \"test\")"
   ]
  },
  {
   "cell_type": "markdown",
   "metadata": {},
   "source": [
    "We can also upload our manifest files:"
   ]
  },
  {
   "cell_type": "code",
   "execution_count": 14,
   "metadata": {
    "tags": []
   },
   "outputs": [],
   "source": [
    "import boto3\n",
    "\n",
    "# Upload files\n",
    "boto3.Session().resource('s3').Bucket(\n",
    "    bucket).Object('train.lst').upload_file('./train.lst')\n",
    "boto3.Session().resource('s3').Bucket(\n",
    "    bucket).Object('test.lst').upload_file('./test.lst')"
   ]
  },
  {
   "cell_type": "markdown",
   "metadata": {},
   "source": [
    "Using the `bucket` and `region` info we can get the latest prebuilt container to run our training job, and define an output location on our s3 bucket for the model. Use the `image_uris` function from the SageMaker SDK to retrieve the latest `image-classification` image below:"
   ]
  },
  {
   "cell_type": "code",
   "execution_count": 15,
   "metadata": {
    "tags": []
   },
   "outputs": [],
   "source": [
    "# Use the image_uris function to retrieve the latest 'image-classification' image \n",
    "algo_image = sagemaker.image_uris.retrieve(framework= \"image-classification\", region = region, version=\"1\")\n",
    "s3_output_location = f\"s3://{bucket}/models/image_model\""
   ]
  },
  {
   "cell_type": "code",
   "execution_count": 28,
   "metadata": {
    "tags": []
   },
   "outputs": [
    {
     "data": {
      "text/plain": [
       "'sagemaker-us-east-1-761422902711'"
      ]
     },
     "execution_count": 28,
     "metadata": {},
     "output_type": "execute_result"
    }
   ],
   "source": [
    "bucket"
   ]
  },
  {
   "cell_type": "markdown",
   "metadata": {},
   "source": [
    "We're ready to create an estimator! Create an estimator `img_classifier_model` that uses one instance of `ml.p3.2xlarge`. Ensure that y ou use the output location we defined above - we'll be referring to that later!"
   ]
  },
  {
   "cell_type": "code",
   "execution_count": 18,
   "metadata": {
    "tags": []
   },
   "outputs": [],
   "source": [
    "img_classifier_model=sagemaker.estimator.Estimator(\n",
    "    image_uri = algo_image,\n",
    "    role= role,\n",
    "    instance_count = 1,\n",
    "    instance_type = 'ml.p3.2xlarge',\n",
    "    output_path = s3_output_location,\n",
    "    sagemaker_session = sagemaker.Session()\n",
    ")"
   ]
  },
  {
   "cell_type": "markdown",
   "metadata": {},
   "source": [
    "We can also set a few key hyperparameters and define the inputs for our model:"
   ]
  },
  {
   "cell_type": "code",
   "execution_count": 20,
   "metadata": {
    "tags": []
   },
   "outputs": [],
   "source": [
    "img_classifier_model.set_hyperparameters(\n",
    "    image_shape='3,32,32',\n",
    "    num_classes=2,\n",
    "    num_training_samples= df_train.shape[0]\n",
    ")"
   ]
  },
  {
   "cell_type": "markdown",
   "metadata": {},
   "source": [
    "The `image-classification` image uses four input channels with very specific input parameters. For convenience, we've provided them below:"
   ]
  },
  {
   "cell_type": "code",
   "execution_count": 21,
   "metadata": {
    "tags": []
   },
   "outputs": [],
   "source": [
    "from sagemaker.debugger import Rule, rule_configs\n",
    "from sagemaker.session import TrainingInput\n",
    "model_inputs = {\n",
    "        \"train\": sagemaker.inputs.TrainingInput(\n",
    "            s3_data=f\"s3://{bucket}/train/\",\n",
    "            content_type=\"application/x-image\"\n",
    "        ),\n",
    "        \"validation\": sagemaker.inputs.TrainingInput(\n",
    "            s3_data=f\"s3://{bucket}/test/\",\n",
    "            content_type=\"application/x-image\"\n",
    "        ),\n",
    "        \"train_lst\": sagemaker.inputs.TrainingInput(\n",
    "            s3_data=f\"s3://{bucket}/train.lst\",\n",
    "            content_type=\"application/x-image\"\n",
    "        ),\n",
    "        \"validation_lst\": sagemaker.inputs.TrainingInput(\n",
    "            s3_data=f\"s3://{bucket}/test.lst\",\n",
    "            content_type=\"application/x-image\"\n",
    "        )\n",
    "}"
   ]
  },
  {
   "cell_type": "markdown",
   "metadata": {},
   "source": [
    "Great, now we can train the model using the model_inputs. In the cell below, call the `fit` method on our model,:"
   ]
  },
  {
   "cell_type": "code",
   "execution_count": 22,
   "metadata": {
    "tags": []
   },
   "outputs": [
    {
     "name": "stdout",
     "output_type": "stream",
     "text": [
      "2023-01-01 21:20:04 Starting - Starting the training job...ProfilerReport-1672608004: InProgress\n",
      "...\n",
      "2023-01-01 21:20:48 Starting - Preparing the instances for training......\n",
      "2023-01-01 21:21:59 Downloading - Downloading input data...\n",
      "2023-01-01 21:22:29 Training - Downloading the training image......\n",
      "2023-01-01 21:23:35 Training - Training image download completed. Training in progress.....\u001b[34mDocker entrypoint called with argument(s): train\u001b[0m\n",
      "\u001b[34mRunning default environment configuration script\u001b[0m\n",
      "\u001b[34mNvidia gpu devices, drivers and cuda toolkit versions (only available on hosts with GPU):\u001b[0m\n",
      "\u001b[34mSun Jan  1 21:24:00 2023       \u001b[0m\n",
      "\u001b[34m+-----------------------------------------------------------------------------+\u001b[0m\n",
      "\u001b[34m| NVIDIA-SMI 510.47.03    Driver Version: 510.47.03    CUDA Version: 11.6     |\u001b[0m\n",
      "\u001b[34m|-------------------------------+----------------------+----------------------+\u001b[0m\n",
      "\u001b[34m| GPU  Name        Persistence-M| Bus-Id        Disp.A | Volatile Uncorr. ECC |\u001b[0m\n",
      "\u001b[34m| Fan  Temp  Perf  Pwr:Usage/Cap|         Memory-Usage | GPU-Util  Compute M. |\u001b[0m\n",
      "\u001b[34m|                               |                      |               MIG M. |\u001b[0m\n",
      "\u001b[34m|===============================+======================+======================|\u001b[0m\n",
      "\u001b[34m|   0  Tesla V100-SXM2...  On   | 00000000:00:1E.0 Off |                    0 |\u001b[0m\n",
      "\u001b[34m| N/A   35C    P0    26W / 300W |      0MiB / 16384MiB |      0%      Default |\u001b[0m\n",
      "\u001b[34m|                               |                      |                  N/A |\u001b[0m\n",
      "\u001b[34m+-------------------------------+----------------------+----------------------+\n",
      "                                                                               \u001b[0m\n",
      "\u001b[34m+-----------------------------------------------------------------------------+\u001b[0m\n",
      "\u001b[34m| Processes:                                                                  |\u001b[0m\n",
      "\u001b[34m|  GPU   GI   CI        PID   Type   Process name                  GPU Memory |\u001b[0m\n",
      "\u001b[34m|        ID   ID                                                   Usage      |\u001b[0m\n",
      "\u001b[34m|=============================================================================|\u001b[0m\n",
      "\u001b[34m|  No running processes found                                                 |\u001b[0m\n",
      "\u001b[34m+-----------------------------------------------------------------------------+\u001b[0m\n",
      "\u001b[34mChecking for nvidia driver and cuda compatibility.\u001b[0m\n",
      "\u001b[34mCUDA Compatibility driver provided.\u001b[0m\n",
      "\u001b[34mProceeding with compatibility check between driver, cuda-toolkit and cuda-compat.\u001b[0m\n",
      "\u001b[34mDetected cuda-toolkit version: 11.1.\u001b[0m\n",
      "\u001b[34mDetected cuda-compat version: 455.32.00.\u001b[0m\n",
      "\u001b[34mDetected Nvidia driver version: 510.47.03.\u001b[0m\n",
      "\u001b[34mNvidia driver compatible with cuda-toolkit. Disabling cuda-compat.\u001b[0m\n",
      "\u001b[34m[01/01/2023 21:24:04 INFO 140310491322176] Reading default configuration from /opt/amazon/lib/python3.7/site-packages/image_classification/default-input.json: {'use_pretrained_model': 0, 'num_layers': 152, 'epochs': 30, 'learning_rate': 0.1, 'lr_scheduler_factor': 0.1, 'optimizer': 'sgd', 'momentum': 0, 'weight_decay': 0.0001, 'beta_1': 0.9, 'beta_2': 0.999, 'eps': 1e-08, 'gamma': 0.9, 'mini_batch_size': 32, 'image_shape': '3,224,224', 'precision_dtype': 'float32'}\u001b[0m\n",
      "\u001b[34m[01/01/2023 21:24:04 INFO 140310491322176] Merging with provided configuration from /opt/ml/input/config/hyperparameters.json: {'image_shape': '3,32,32', 'num_classes': '2', 'num_training_samples': '1000'}\u001b[0m\n",
      "\u001b[34m[01/01/2023 21:24:04 INFO 140310491322176] Final configuration: {'use_pretrained_model': 0, 'num_layers': 152, 'epochs': 30, 'learning_rate': 0.1, 'lr_scheduler_factor': 0.1, 'optimizer': 'sgd', 'momentum': 0, 'weight_decay': 0.0001, 'beta_1': 0.9, 'beta_2': 0.999, 'eps': 1e-08, 'gamma': 0.9, 'mini_batch_size': 32, 'image_shape': '3,32,32', 'precision_dtype': 'float32', 'num_classes': '2', 'num_training_samples': '1000'}\u001b[0m\n",
      "\u001b[34m[01/01/2023 21:24:04 INFO 140310491322176] Searching for .lst files in /opt/ml/input/data/train_lst.\u001b[0m\n",
      "\u001b[34m[01/01/2023 21:24:04 INFO 140310491322176] Creating record files for train.lst\u001b[0m\n",
      "\u001b[34m[01/01/2023 21:24:04 INFO 140310491322176] Done creating record files...\u001b[0m\n",
      "\u001b[34m[01/01/2023 21:24:04 INFO 140310491322176] Searching for .lst files in /opt/ml/input/data/validation_lst.\u001b[0m\n",
      "\u001b[34m[01/01/2023 21:24:04 INFO 140310491322176] Creating record files for test.lst\u001b[0m\n",
      "\u001b[34m[01/01/2023 21:24:04 INFO 140310491322176] Done creating record files...\u001b[0m\n",
      "\u001b[34m[01/01/2023 21:24:04 INFO 140310491322176] use_pretrained_model: 0\u001b[0m\n",
      "\u001b[34m[01/01/2023 21:24:04 INFO 140310491322176] multi_label: 0\u001b[0m\n",
      "\u001b[34m[01/01/2023 21:24:04 INFO 140310491322176] Performing random weight initialization\u001b[0m\n",
      "\u001b[34m[01/01/2023 21:24:04 INFO 140310491322176] ---- Parameters ----\u001b[0m\n",
      "\u001b[34m[01/01/2023 21:24:04 INFO 140310491322176] num_layers: 152\u001b[0m\n",
      "\u001b[34m[01/01/2023 21:24:04 INFO 140310491322176] data type: <class 'numpy.float32'>\u001b[0m\n",
      "\u001b[34m[01/01/2023 21:24:04 INFO 140310491322176] epochs: 30\u001b[0m\n",
      "\u001b[34m[01/01/2023 21:24:04 INFO 140310491322176] optimizer: sgd\u001b[0m\n",
      "\u001b[34m[01/01/2023 21:24:04 INFO 140310491322176] momentum: 0.9\u001b[0m\n",
      "\u001b[34m[01/01/2023 21:24:04 INFO 140310491322176] weight_decay: 0.0001\u001b[0m\n",
      "\u001b[34m[01/01/2023 21:24:04 INFO 140310491322176] learning_rate: 0.1\u001b[0m\n",
      "\u001b[34m[01/01/2023 21:24:04 INFO 140310491322176] num_training_samples: 1000\u001b[0m\n",
      "\u001b[34m[01/01/2023 21:24:04 INFO 140310491322176] mini_batch_size: 32\u001b[0m\n",
      "\u001b[34m[01/01/2023 21:24:04 INFO 140310491322176] image_shape: 3,32,32\u001b[0m\n",
      "\u001b[34m[01/01/2023 21:24:04 INFO 140310491322176] num_classes: 2\u001b[0m\n",
      "\u001b[34m[01/01/2023 21:24:04 INFO 140310491322176] augmentation_type: None\u001b[0m\n",
      "\u001b[34m[01/01/2023 21:24:04 INFO 140310491322176] kv_store: device\u001b[0m\n",
      "\u001b[34m[01/01/2023 21:24:04 INFO 140310491322176] checkpoint_frequency not set, will store the best model\u001b[0m\n",
      "\u001b[34m[01/01/2023 21:24:04 INFO 140310491322176] --------------------\u001b[0m\n",
      "\u001b[34m[01/01/2023 21:24:05 INFO 140310491322176] Setting number of threads: 7\u001b[0m\n",
      "\u001b[34m[21:24:08] /opt/brazil-pkg-cache/packages/AIAlgorithmsMXNet/AIAlgorithmsMXNet-1.4.x_ecl_Cuda_11.1.x.38.0/AL2_x86_64/generic-flavor/src/src/operator/nn/./cudnn/./cudnn_algoreg-inl.h:97: Running performance tests to find the best convolution algorithm, this can take a while... (setting env variable MXNET_CUDNN_AUTOTUNE_DEFAULT to 0 to disable)\u001b[0m\n",
      "\u001b[34m[01/01/2023 21:24:14 INFO 140310491322176] Epoch[0] Batch [20]#011Speed: 121.175 samples/sec#011accuracy=0.593750\u001b[0m\n",
      "\u001b[34m[01/01/2023 21:24:15 INFO 140310491322176] Epoch[0] Train-accuracy=0.650202\u001b[0m\n",
      "\u001b[34m[01/01/2023 21:24:15 INFO 140310491322176] Epoch[0] Time cost=6.957\u001b[0m\n",
      "\u001b[34m[01/01/2023 21:24:16 INFO 140310491322176] Epoch[0] Validation-accuracy=0.489583\u001b[0m\n",
      "\u001b[34m[01/01/2023 21:24:16 INFO 140310491322176] Storing the best model with validation accuracy: 0.489583\u001b[0m\n",
      "\u001b[34m[01/01/2023 21:24:16 INFO 140310491322176] Saved checkpoint to \"/opt/ml/model/image-classification-0001.params\"\u001b[0m\n",
      "\u001b[34m[01/01/2023 21:24:20 INFO 140310491322176] Epoch[1] Batch [20]#011Speed: 189.111 samples/sec#011accuracy=0.708333\u001b[0m\n",
      "\u001b[34m[01/01/2023 21:24:22 INFO 140310491322176] Epoch[1] Train-accuracy=0.708669\u001b[0m\n",
      "\u001b[34m[01/01/2023 21:24:22 INFO 140310491322176] Epoch[1] Time cost=5.081\u001b[0m\n",
      "\u001b[34m[01/01/2023 21:24:22 INFO 140310491322176] Epoch[1] Validation-accuracy=0.500000\u001b[0m\n",
      "\u001b[34m[01/01/2023 21:24:22 INFO 140310491322176] Storing the best model with validation accuracy: 0.500000\u001b[0m\n",
      "\u001b[34m[01/01/2023 21:24:23 INFO 140310491322176] Saved checkpoint to \"/opt/ml/model/image-classification-0002.params\"\u001b[0m\n",
      "\u001b[34m[01/01/2023 21:24:26 INFO 140310491322176] Epoch[2] Batch [20]#011Speed: 186.636 samples/sec#011accuracy=0.699405\u001b[0m\n",
      "\u001b[34m[01/01/2023 21:24:28 INFO 140310491322176] Epoch[2] Train-accuracy=0.667339\u001b[0m\n",
      "\u001b[34m[01/01/2023 21:24:28 INFO 140310491322176] Epoch[2] Time cost=5.108\u001b[0m\n",
      "\u001b[34m[01/01/2023 21:24:28 INFO 140310491322176] Epoch[2] Validation-accuracy=0.713542\u001b[0m\n",
      "\u001b[34m[01/01/2023 21:24:29 INFO 140310491322176] Storing the best model with validation accuracy: 0.713542\u001b[0m\n",
      "\u001b[34m[01/01/2023 21:24:29 INFO 140310491322176] Saved checkpoint to \"/opt/ml/model/image-classification-0003.params\"\u001b[0m\n",
      "\u001b[34m[01/01/2023 21:24:32 INFO 140310491322176] Epoch[3] Batch [20]#011Speed: 187.335 samples/sec#011accuracy=0.750000\u001b[0m\n",
      "\u001b[34m[01/01/2023 21:24:34 INFO 140310491322176] Epoch[3] Train-accuracy=0.774194\u001b[0m\n",
      "\u001b[34m[01/01/2023 21:24:34 INFO 140310491322176] Epoch[3] Time cost=5.093\u001b[0m\n",
      "\u001b[34m[01/01/2023 21:24:35 INFO 140310491322176] Epoch[3] Validation-accuracy=0.781250\u001b[0m\n",
      "\u001b[34m[01/01/2023 21:24:35 INFO 140310491322176] Storing the best model with validation accuracy: 0.781250\u001b[0m\n",
      "\u001b[34m[01/01/2023 21:24:35 INFO 140310491322176] Saved checkpoint to \"/opt/ml/model/image-classification-0004.params\"\u001b[0m\n",
      "\u001b[34m[01/01/2023 21:24:39 INFO 140310491322176] Epoch[4] Batch [20]#011Speed: 183.714 samples/sec#011accuracy=0.778274\u001b[0m\n",
      "\u001b[34m[01/01/2023 21:24:41 INFO 140310491322176] Epoch[4] Train-accuracy=0.775202\u001b[0m\n",
      "\u001b[34m[01/01/2023 21:24:41 INFO 140310491322176] Epoch[4] Time cost=5.172\u001b[0m\n",
      "\u001b[34m[01/01/2023 21:24:41 INFO 140310491322176] Epoch[4] Validation-accuracy=0.796875\u001b[0m\n",
      "\u001b[34m[01/01/2023 21:24:41 INFO 140310491322176] Storing the best model with validation accuracy: 0.796875\u001b[0m\n",
      "\u001b[34m[01/01/2023 21:24:42 INFO 140310491322176] Saved checkpoint to \"/opt/ml/model/image-classification-0005.params\"\u001b[0m\n",
      "\u001b[34m[01/01/2023 21:24:45 INFO 140310491322176] Epoch[5] Batch [20]#011Speed: 187.690 samples/sec#011accuracy=0.811012\u001b[0m\n",
      "\u001b[34m[01/01/2023 21:24:47 INFO 140310491322176] Epoch[5] Train-accuracy=0.791331\u001b[0m\n",
      "\u001b[34m[01/01/2023 21:24:47 INFO 140310491322176] Epoch[5] Time cost=5.094\u001b[0m\n",
      "\u001b[34m[01/01/2023 21:24:47 INFO 140310491322176] Epoch[5] Validation-accuracy=0.776042\u001b[0m\n",
      "\u001b[34m[01/01/2023 21:24:51 INFO 140310491322176] Epoch[6] Batch [20]#011Speed: 185.129 samples/sec#011accuracy=0.849702\u001b[0m\n",
      "\u001b[34m[01/01/2023 21:24:53 INFO 140310491322176] Epoch[6] Train-accuracy=0.835685\u001b[0m\n",
      "\u001b[34m[01/01/2023 21:24:53 INFO 140310491322176] Epoch[6] Time cost=5.127\u001b[0m\n",
      "\u001b[34m[01/01/2023 21:24:53 INFO 140310491322176] Epoch[6] Validation-accuracy=0.812500\u001b[0m\n",
      "\u001b[34m[01/01/2023 21:24:54 INFO 140310491322176] Storing the best model with validation accuracy: 0.812500\u001b[0m\n",
      "\u001b[34m[01/01/2023 21:24:54 INFO 140310491322176] Saved checkpoint to \"/opt/ml/model/image-classification-0007.params\"\u001b[0m\n",
      "\u001b[34m[01/01/2023 21:24:58 INFO 140310491322176] Epoch[7] Batch [20]#011Speed: 184.683 samples/sec#011accuracy=0.839286\u001b[0m\n",
      "\u001b[34m[01/01/2023 21:24:59 INFO 140310491322176] Epoch[7] Train-accuracy=0.820565\u001b[0m\n",
      "\u001b[34m[01/01/2023 21:24:59 INFO 140310491322176] Epoch[7] Time cost=5.141\u001b[0m\n",
      "\u001b[34m[01/01/2023 21:25:00 INFO 140310491322176] Epoch[7] Validation-accuracy=0.781250\u001b[0m\n",
      "\u001b[34m[01/01/2023 21:25:04 INFO 140310491322176] Epoch[8] Batch [20]#011Speed: 179.412 samples/sec#011accuracy=0.843750\u001b[0m\n",
      "\u001b[34m[01/01/2023 21:25:06 INFO 140310491322176] Epoch[8] Train-accuracy=0.836694\u001b[0m\n",
      "\u001b[34m[01/01/2023 21:25:06 INFO 140310491322176] Epoch[8] Time cost=5.235\u001b[0m\n",
      "\u001b[34m[01/01/2023 21:25:06 INFO 140310491322176] Epoch[8] Validation-accuracy=0.828125\u001b[0m\n",
      "\u001b[34m[01/01/2023 21:25:06 INFO 140310491322176] Storing the best model with validation accuracy: 0.828125\u001b[0m\n",
      "\u001b[34m[01/01/2023 21:25:07 INFO 140310491322176] Saved checkpoint to \"/opt/ml/model/image-classification-0009.params\"\u001b[0m\n",
      "\u001b[34m[01/01/2023 21:25:10 INFO 140310491322176] Epoch[9] Batch [20]#011Speed: 185.870 samples/sec#011accuracy=0.852679\u001b[0m\n",
      "\u001b[34m[01/01/2023 21:25:12 INFO 140310491322176] Epoch[9] Train-accuracy=0.848790\u001b[0m\n",
      "\u001b[34m[01/01/2023 21:25:12 INFO 140310491322176] Epoch[9] Time cost=5.145\u001b[0m\n",
      "\u001b[34m[01/01/2023 21:25:12 INFO 140310491322176] Epoch[9] Validation-accuracy=0.812500\u001b[0m\n",
      "\u001b[34m[01/01/2023 21:25:16 INFO 140310491322176] Epoch[10] Batch [20]#011Speed: 187.129 samples/sec#011accuracy=0.842262\u001b[0m\n",
      "\u001b[34m[01/01/2023 21:25:18 INFO 140310491322176] Epoch[10] Train-accuracy=0.844758\u001b[0m\n",
      "\u001b[34m[01/01/2023 21:25:18 INFO 140310491322176] Epoch[10] Time cost=5.080\u001b[0m\n",
      "\u001b[34m[01/01/2023 21:25:18 INFO 140310491322176] Epoch[10] Validation-accuracy=0.812500\u001b[0m\n",
      "\u001b[34m[01/01/2023 21:25:22 INFO 140310491322176] Epoch[11] Batch [20]#011Speed: 188.444 samples/sec#011accuracy=0.843750\u001b[0m\n",
      "\u001b[34m[01/01/2023 21:25:24 INFO 140310491322176] Epoch[11] Train-accuracy=0.846774\u001b[0m\n",
      "\u001b[34m[01/01/2023 21:25:24 INFO 140310491322176] Epoch[11] Time cost=5.086\u001b[0m\n",
      "\u001b[34m[01/01/2023 21:25:25 INFO 140310491322176] Epoch[11] Validation-accuracy=0.767857\u001b[0m\n",
      "\u001b[34m[01/01/2023 21:25:29 INFO 140310491322176] Epoch[12] Batch [20]#011Speed: 177.542 samples/sec#011accuracy=0.855655\u001b[0m\n",
      "\u001b[34m[01/01/2023 21:25:30 INFO 140310491322176] Epoch[12] Train-accuracy=0.866935\u001b[0m\n",
      "\u001b[34m[01/01/2023 21:25:30 INFO 140310491322176] Epoch[12] Time cost=5.370\u001b[0m\n",
      "\u001b[34m[01/01/2023 21:25:31 INFO 140310491322176] Epoch[12] Validation-accuracy=0.822917\u001b[0m\n",
      "\u001b[34m[01/01/2023 21:25:35 INFO 140310491322176] Epoch[13] Batch [20]#011Speed: 186.658 samples/sec#011accuracy=0.897321\u001b[0m\n",
      "\u001b[34m[01/01/2023 21:25:37 INFO 140310491322176] Epoch[13] Train-accuracy=0.901210\u001b[0m\n",
      "\u001b[34m[01/01/2023 21:25:37 INFO 140310491322176] Epoch[13] Time cost=5.122\u001b[0m\n",
      "\u001b[34m[01/01/2023 21:25:37 INFO 140310491322176] Epoch[13] Validation-accuracy=0.822917\u001b[0m\n",
      "\u001b[34m[01/01/2023 21:25:41 INFO 140310491322176] Epoch[14] Batch [20]#011Speed: 187.573 samples/sec#011accuracy=0.889881\u001b[0m\n",
      "\u001b[34m[01/01/2023 21:25:43 INFO 140310491322176] Epoch[14] Train-accuracy=0.889113\u001b[0m\n",
      "\u001b[34m[01/01/2023 21:25:43 INFO 140310491322176] Epoch[14] Time cost=5.132\u001b[0m\n",
      "\u001b[34m[01/01/2023 21:25:43 INFO 140310491322176] Epoch[14] Validation-accuracy=0.838542\u001b[0m\n",
      "\u001b[34m[01/01/2023 21:25:44 INFO 140310491322176] Storing the best model with validation accuracy: 0.838542\u001b[0m\n",
      "\u001b[34m[01/01/2023 21:25:44 INFO 140310491322176] Saved checkpoint to \"/opt/ml/model/image-classification-0015.params\"\u001b[0m\n",
      "\u001b[34m[01/01/2023 21:25:47 INFO 140310491322176] Epoch[15] Batch [20]#011Speed: 188.651 samples/sec#011accuracy=0.925595\u001b[0m\n",
      "\u001b[34m[01/01/2023 21:25:49 INFO 140310491322176] Epoch[15] Train-accuracy=0.920363\u001b[0m\n",
      "\u001b[34m[01/01/2023 21:25:49 INFO 140310491322176] Epoch[15] Time cost=5.062\u001b[0m\n",
      "\u001b[34m[01/01/2023 21:25:50 INFO 140310491322176] Epoch[15] Validation-accuracy=0.825893\u001b[0m\n",
      "\u001b[34m[01/01/2023 21:25:53 INFO 140310491322176] Epoch[16] Batch [20]#011Speed: 187.406 samples/sec#011accuracy=0.875000\u001b[0m\n",
      "\u001b[34m[01/01/2023 21:25:55 INFO 140310491322176] Epoch[16] Train-accuracy=0.862903\u001b[0m\n",
      "\u001b[34m[01/01/2023 21:25:55 INFO 140310491322176] Epoch[16] Time cost=5.076\u001b[0m\n",
      "\u001b[34m[01/01/2023 21:25:56 INFO 140310491322176] Epoch[16] Validation-accuracy=0.838542\u001b[0m\n",
      "\u001b[34m[01/01/2023 21:26:00 INFO 140310491322176] Epoch[17] Batch [20]#011Speed: 187.546 samples/sec#011accuracy=0.934524\u001b[0m\n",
      "\u001b[34m[01/01/2023 21:26:01 INFO 140310491322176] Epoch[17] Train-accuracy=0.938508\u001b[0m\n",
      "\u001b[34m[01/01/2023 21:26:01 INFO 140310491322176] Epoch[17] Time cost=5.101\u001b[0m\n",
      "\u001b[34m[01/01/2023 21:26:02 INFO 140310491322176] Epoch[17] Validation-accuracy=0.875000\u001b[0m\n",
      "\u001b[34m[01/01/2023 21:26:02 INFO 140310491322176] Storing the best model with validation accuracy: 0.875000\u001b[0m\n",
      "\u001b[34m[01/01/2023 21:26:02 INFO 140310491322176] Saved checkpoint to \"/opt/ml/model/image-classification-0018.params\"\u001b[0m\n",
      "\u001b[34m[01/01/2023 21:26:06 INFO 140310491322176] Epoch[18] Batch [20]#011Speed: 185.297 samples/sec#011accuracy=0.915179\u001b[0m\n",
      "\u001b[34m[01/01/2023 21:26:08 INFO 140310491322176] Epoch[18] Train-accuracy=0.916331\u001b[0m\n",
      "\u001b[34m[01/01/2023 21:26:08 INFO 140310491322176] Epoch[18] Time cost=5.155\u001b[0m\n",
      "\u001b[34m[01/01/2023 21:26:08 INFO 140310491322176] Epoch[18] Validation-accuracy=0.843750\u001b[0m\n",
      "\u001b[34m[01/01/2023 21:26:12 INFO 140310491322176] Epoch[19] Batch [20]#011Speed: 185.542 samples/sec#011accuracy=0.941964\u001b[0m\n",
      "\u001b[34m[01/01/2023 21:26:14 INFO 140310491322176] Epoch[19] Train-accuracy=0.940524\u001b[0m\n",
      "\u001b[34m[01/01/2023 21:26:14 INFO 140310491322176] Epoch[19] Time cost=5.133\u001b[0m\n",
      "\u001b[34m[01/01/2023 21:26:14 INFO 140310491322176] Epoch[19] Validation-accuracy=0.816964\u001b[0m\n",
      "\u001b[34m[01/01/2023 21:26:18 INFO 140310491322176] Epoch[20] Batch [20]#011Speed: 184.988 samples/sec#011accuracy=0.949405\u001b[0m\n",
      "\u001b[34m[01/01/2023 21:26:20 INFO 140310491322176] Epoch[20] Train-accuracy=0.948589\u001b[0m\n",
      "\u001b[34m[01/01/2023 21:26:20 INFO 140310491322176] Epoch[20] Time cost=5.108\u001b[0m\n",
      "\u001b[34m[01/01/2023 21:26:20 INFO 140310491322176] Epoch[20] Validation-accuracy=0.854167\u001b[0m\n",
      "\u001b[34m[01/01/2023 21:26:24 INFO 140310491322176] Epoch[21] Batch [20]#011Speed: 186.418 samples/sec#011accuracy=0.947917\u001b[0m\n",
      "\u001b[34m[01/01/2023 21:26:26 INFO 140310491322176] Epoch[21] Train-accuracy=0.949597\u001b[0m\n",
      "\u001b[34m[01/01/2023 21:26:26 INFO 140310491322176] Epoch[21] Time cost=5.125\u001b[0m\n",
      "\u001b[34m[01/01/2023 21:26:27 INFO 140310491322176] Epoch[21] Validation-accuracy=0.786458\u001b[0m\n",
      "\u001b[34m[01/01/2023 21:26:30 INFO 140310491322176] Epoch[22] Batch [20]#011Speed: 187.852 samples/sec#011accuracy=0.953869\u001b[0m\n",
      "\u001b[34m[01/01/2023 21:26:32 INFO 140310491322176] Epoch[22] Train-accuracy=0.949597\u001b[0m\n",
      "\u001b[34m[01/01/2023 21:26:32 INFO 140310491322176] Epoch[22] Time cost=5.077\u001b[0m\n",
      "\u001b[34m[01/01/2023 21:26:33 INFO 140310491322176] Epoch[22] Validation-accuracy=0.869792\u001b[0m\n",
      "\u001b[34m[01/01/2023 21:26:37 INFO 140310491322176] Epoch[23] Batch [20]#011Speed: 184.349 samples/sec#011accuracy=0.967262\u001b[0m\n",
      "\u001b[34m[01/01/2023 21:26:38 INFO 140310491322176] Epoch[23] Train-accuracy=0.962702\u001b[0m\n",
      "\u001b[34m[01/01/2023 21:26:38 INFO 140310491322176] Epoch[23] Time cost=5.157\u001b[0m\n",
      "\u001b[34m[01/01/2023 21:26:39 INFO 140310491322176] Epoch[23] Validation-accuracy=0.875000\u001b[0m\n",
      "\u001b[34m[01/01/2023 21:26:43 INFO 140310491322176] Epoch[24] Batch [20]#011Speed: 186.575 samples/sec#011accuracy=0.946429\u001b[0m\n",
      "\u001b[34m[01/01/2023 21:26:44 INFO 140310491322176] Epoch[24] Train-accuracy=0.952621\u001b[0m\n",
      "\u001b[34m[01/01/2023 21:26:44 INFO 140310491322176] Epoch[24] Time cost=5.102\u001b[0m\n",
      "\u001b[34m[01/01/2023 21:26:45 INFO 140310491322176] Epoch[24] Validation-accuracy=0.843750\u001b[0m\n",
      "\u001b[34m[01/01/2023 21:26:49 INFO 140310491322176] Epoch[25] Batch [20]#011Speed: 187.619 samples/sec#011accuracy=0.968750\u001b[0m\n",
      "\u001b[34m[01/01/2023 21:26:51 INFO 140310491322176] Epoch[25] Train-accuracy=0.968750\u001b[0m\n",
      "\u001b[34m[01/01/2023 21:26:51 INFO 140310491322176] Epoch[25] Time cost=5.077\u001b[0m\n",
      "\u001b[34m[01/01/2023 21:26:51 INFO 140310491322176] Epoch[25] Validation-accuracy=0.786458\u001b[0m\n",
      "\u001b[34m[01/01/2023 21:26:55 INFO 140310491322176] Epoch[26] Batch [20]#011Speed: 186.803 samples/sec#011accuracy=0.953869\u001b[0m\n",
      "\u001b[34m[01/01/2023 21:26:57 INFO 140310491322176] Epoch[26] Train-accuracy=0.956653\u001b[0m\n",
      "\u001b[34m[01/01/2023 21:26:57 INFO 140310491322176] Epoch[26] Time cost=5.071\u001b[0m\n",
      "\u001b[34m[01/01/2023 21:26:57 INFO 140310491322176] Epoch[26] Validation-accuracy=0.828125\u001b[0m\n",
      "\u001b[34m[01/01/2023 21:27:01 INFO 140310491322176] Epoch[27] Batch [20]#011Speed: 185.804 samples/sec#011accuracy=0.983631\u001b[0m\n",
      "\u001b[34m[01/01/2023 21:27:03 INFO 140310491322176] Epoch[27] Train-accuracy=0.978831\u001b[0m\n",
      "\u001b[34m[01/01/2023 21:27:03 INFO 140310491322176] Epoch[27] Time cost=5.188\u001b[0m\n",
      "\u001b[34m[01/01/2023 21:27:03 INFO 140310491322176] Epoch[27] Validation-accuracy=0.825893\u001b[0m\n",
      "\u001b[34m[01/01/2023 21:27:07 INFO 140310491322176] Epoch[28] Batch [20]#011Speed: 185.770 samples/sec#011accuracy=0.971726\u001b[0m\n",
      "\u001b[34m[01/01/2023 21:27:09 INFO 140310491322176] Epoch[28] Train-accuracy=0.972782\u001b[0m\n",
      "\u001b[34m[01/01/2023 21:27:09 INFO 140310491322176] Epoch[28] Time cost=5.092\u001b[0m\n",
      "\u001b[34m[01/01/2023 21:27:09 INFO 140310491322176] Epoch[28] Validation-accuracy=0.812500\u001b[0m\n",
      "\u001b[34m[01/01/2023 21:27:13 INFO 140310491322176] Epoch[29] Batch [20]#011Speed: 188.737 samples/sec#011accuracy=0.983631\u001b[0m\n",
      "\u001b[34m[01/01/2023 21:27:15 INFO 140310491322176] Epoch[29] Train-accuracy=0.983871\u001b[0m\n",
      "\u001b[34m[01/01/2023 21:27:15 INFO 140310491322176] Epoch[29] Time cost=5.071\u001b[0m\n",
      "\u001b[34m[01/01/2023 21:27:15 INFO 140310491322176] Epoch[29] Validation-accuracy=0.807292\u001b[0m\n",
      "\n",
      "2023-01-01 21:27:30 Uploading - Uploading generated training model\n",
      "2023-01-01 21:28:10 Completed - Training job completed\n",
      "Training seconds: 363\n",
      "Billable seconds: 363\n"
     ]
    }
   ],
   "source": [
    "## TODO: train your model\n",
    "img_classifier_model.fit(model_inputs)"
   ]
  },
  {
   "cell_type": "markdown",
   "metadata": {},
   "source": [
    "If all goes well, you'll end up with a model topping out above `.8` validation accuracy. With only 1000 training samples in the CIFAR dataset, that's pretty good. We could definitely pursue data augmentation & gathering more samples to help us improve further, but for now let's proceed to deploy our model.\n",
    "\n",
    "### Getting ready to deploy\n",
    "\n",
    "To begin with, let's configure Model Monitor to track our deployment. We'll define a `DataCaptureConfig` below:"
   ]
  },
  {
   "cell_type": "code",
   "execution_count": 23,
   "metadata": {
    "tags": []
   },
   "outputs": [],
   "source": [
    "from sagemaker.model_monitor import DataCaptureConfig\n",
    "\n",
    "data_capture_config = DataCaptureConfig(\n",
    "    ## TODO: Set config options\n",
    "    enable_capture = True,\n",
    "    sampling_percentage=100,\n",
    "    destination_s3_uri=f\"s3://{bucket}/data_capture\"\n",
    ")"
   ]
  },
  {
   "cell_type": "markdown",
   "metadata": {},
   "source": [
    "Note the `destination_s3_uri` parameter: At the end of the project, we can explore the `data_capture` directory in S3 to find crucial data about the inputs and outputs Model Monitor has observed on our model endpoint over time.\n",
    "\n",
    "With that done, deploy your model on a single `ml.m5.xlarge` instance with the data capture config attached:"
   ]
  },
  {
   "cell_type": "code",
   "execution_count": 24,
   "metadata": {
    "tags": []
   },
   "outputs": [
    {
     "name": "stdout",
     "output_type": "stream",
     "text": [
      "--------!image-classification-2023-01-01-21-28-45-483\n"
     ]
    }
   ],
   "source": [
    "deployment = img_classifier_model.deploy(\n",
    "    ## TODO: fill in deployment options\n",
    "    initial_instance_count = 1,\n",
    "    instance_type = 'ml.m5.xlarge',\n",
    "    data_capture_config=data_capture_config\n",
    "    )\n",
    "\n",
    "endpoint = deployment.endpoint_name\n",
    "print(endpoint)"
   ]
  },
  {
   "cell_type": "markdown",
   "metadata": {},
   "source": [
    "Note the endpoint name for later as well.\n",
    "\n",
    "Next, instantiate a Predictor:"
   ]
  },
  {
   "cell_type": "code",
   "execution_count": 25,
   "metadata": {
    "tags": []
   },
   "outputs": [],
   "source": [
    "from sagemaker.predictor import Predictor\n",
    "\n",
    "predictor = Predictor(endpoint) # Actually we could also do -> \"predictor = endpoint\" directly"
   ]
  },
  {
   "cell_type": "markdown",
   "metadata": {},
   "source": [
    "In the code snippet below we are going to prepare one of your saved images for prediction. Use the predictor to process the `payload`."
   ]
  },
  {
   "cell_type": "code",
   "execution_count": 26,
   "metadata": {
    "tags": []
   },
   "outputs": [],
   "source": [
    "from sagemaker.serializers import IdentitySerializer\n",
    "import base64\n",
    "\n",
    "predictor.serializer = IdentitySerializer(\"image/png\")\n",
    "with open(\"./test/bicycle_s_001789.png\", \"rb\") as f:\n",
    "    payload = f.read()\n",
    "\n",
    "inference = predictor.predict(payload, initial_args={'ContentType': 'application/x-image'})"
   ]
  },
  {
   "cell_type": "markdown",
   "metadata": {},
   "source": [
    "Your `inference` object is an array of two values, the predicted probability value for each of your classes (bicycle and motorcycle respectively.) So, for example, a value of `b'[0.91, 0.09]'` indicates the probability of being a bike is 91% and being a motorcycle is 9%."
   ]
  },
  {
   "cell_type": "code",
   "execution_count": 27,
   "metadata": {
    "tags": []
   },
   "outputs": [
    {
     "name": "stdout",
     "output_type": "stream",
     "text": [
      "b'[0.982679009437561, 0.017320973798632622]'\n"
     ]
    }
   ],
   "source": [
    "print(inference)"
   ]
  },
  {
   "cell_type": "markdown",
   "metadata": {},
   "source": [
    "### Draft Lambdas and Step Function Workflow\n",
    "\n",
    "Your operations team uses Step Functions to orchestrate serverless workflows. One of the nice things about Step Functions is that [workflows can call other workflows](https://docs.aws.amazon.com/step-functions/latest/dg/connect-stepfunctions.html), so the team can easily plug your workflow into the broader production architecture for Scones Unlimited.\n",
    "\n",
    "In this next stage you're going to write and deploy three Lambda functions, and then use the Step Functions visual editor to chain them together! Our functions are going to work with a simple data object:\n",
    "\n",
    "```python\n",
    "{\n",
    "    \"inferences\": [], # Output of predictor.predict\n",
    "    \"s3_key\": \"\", # Source data S3 key\n",
    "    \"s3_bucket\": \"\", # Source data S3 bucket\n",
    "    \"image_data\": \"\"  # base64 encoded string containing the image data\n",
    "}\n",
    "```\n",
    "\n",
    "A good test object that you can use for Lambda tests and Step Function executions, throughout the next section, might look like this:\n",
    "\n",
    "```python\n",
    "{\n",
    "  \"image_data\": \"\",\n",
    "  \"s3_bucket\": MY_BUCKET_NAME, # Fill in with your bucket\n",
    "  \"s3_key\": \"test/bicycle_s_000513.png\"\n",
    "}\n",
    "```\n",
    "\n",
    "Using these fields, your functions can read and write the necessary data to execute your workflow. Let's start with the first function. Your first Lambda function will copy an object from S3, base64 encode it, and then return it to the step function as `image_data` in an event.\n",
    "\n",
    "Go to the Lambda dashboard and create a new Lambda function with a descriptive name like \"serializeImageData\" and select thr 'Python 3.8' runtime. Add the same permissions as the SageMaker role you created earlier. (Reminder: you do this in the Configuration tab under \"Permissions\"). Once you're ready, use the starter code below to craft your Lambda handler:\n",
    "\n",
    "```python\n",
    "import json\n",
    "import boto3\n",
    "import base64\n",
    "\n",
    "s3 = boto3.client('s3')\n",
    "\n",
    "def lambda_handler(event, context):\n",
    "    \"\"\"A function to serialize target data from S3\"\"\"\n",
    "    \n",
    "    # Get the s3 address from the Step Function event input\n",
    "    key = ## TODO: fill in\n",
    "    bucket = ## TODO: fill in\n",
    "    \n",
    "    # Download the data from s3 to /tmp/image.png\n",
    "    ## TODO: fill in\n",
    "    \n",
    "    # We read the data from a file\n",
    "    with open(\"/tmp/image.png\", \"rb\") as f:\n",
    "        image_data = base64.b64encode(f.read())\n",
    "\n",
    "    # Pass the data back to the Step Function\n",
    "    print(\"Event:\", event.keys())\n",
    "    return {\n",
    "        'statusCode': 200,\n",
    "        'body': {\n",
    "            \"image_data\": image_data,\n",
    "            \"s3_bucket\": bucket,\n",
    "            \"s3_key\": key,\n",
    "            \"inferences\": []\n",
    "        }\n",
    "    }\n",
    "```\n",
    "\n",
    "The next function is responsible for the classification part - we're going to take the image output from the previous function, decode it, and then pass inferences back to the the Step Function.\n",
    "\n",
    "Because this Lambda will have runtime dependencies (i.e. the SageMaker SDK) you'll need to package them in your function. *Key reading:* https://docs.aws.amazon.com/lambda/latest/dg/python-package-create.html#python-package-create-with-dependency\n",
    "\n",
    "Create a new Lambda function with the same rights and a descriptive name, then fill in the starter code below for your classifier Lambda.\n",
    "\n",
    "```python\n",
    "import json\n",
    "import sagemaker\n",
    "import base64\n",
    "from sagemaker.serializers import IdentitySerializer\n",
    "\n",
    "# Fill this in with the name of your deployed model\n",
    "ENDPOINT = ## TODO: fill in\n",
    "\n",
    "def lambda_handler(event, context):\n",
    "\n",
    "    # Decode the image data\n",
    "    image = base64.b64decode(## TODO: fill in)\n",
    "\n",
    "    # Instantiate a Predictor\n",
    "    predictor = ## TODO: fill in\n",
    "\n",
    "    # For this model the IdentitySerializer needs to be \"image/png\"\n",
    "    predictor.serializer = IdentitySerializer(\"image/png\")\n",
    "    \n",
    "    # Make a prediction:\n",
    "    inferences = ## TODO: fill in\n",
    "    \n",
    "    # We return the data back to the Step Function    \n",
    "    event[\"inferences\"] = inferences.decode('utf-8')\n",
    "    return {\n",
    "        'statusCode': 200,\n",
    "        'body': json.dumps(event)\n",
    "    }\n",
    "```\n",
    "\n",
    "Finally, we need to filter low-confidence inferences. Define a threshold between 1.00 and 0.000 for your model: what is reasonble for you? If the model predicts at `.70` for it's highest confidence label, do we want to pass that inference along to downstream systems? Make one last Lambda function and tee up the same permissions:\n",
    "\n",
    "```python\n",
    "import json\n",
    "\n",
    "\n",
    "THRESHOLD = .93\n",
    "\n",
    "\n",
    "def lambda_handler(event, context):\n",
    "    \n",
    "    # Grab the inferences from the event\n",
    "    inferences = ## TODO: fill in\n",
    "    \n",
    "    # Check if any values in our inferences are above THRESHOLD\n",
    "    meets_threshold = ## TODO: fill in\n",
    "    \n",
    "    # If our threshold is met, pass our data back out of the\n",
    "    # Step Function, else, end the Step Function with an error\n",
    "    if meets_threshold:\n",
    "        pass\n",
    "    else:\n",
    "        raise(\"THRESHOLD_CONFIDENCE_NOT_MET\")\n",
    "\n",
    "    return {\n",
    "        'statusCode': 200,\n",
    "        'body': json.dumps(event)\n",
    "    }\n",
    "```\n",
    "Once you have tested the lambda functions, save the code for each lambda function in a python script called 'lambda.py'.\n",
    "\n",
    "With your lambdas in place, you can use the Step Functions visual editor to construct a workflow that chains them together. In the Step Functions console you'll have the option to author a Standard step function *Visually*.\n",
    "\n",
    "When the visual editor opens, you'll have many options to add transitions in your workflow. We're going to keep it simple and have just one: to invoke Lambda functions. Add three of them chained together. For each one, you'll be able to select the Lambda functions you just created in the proper order, filter inputs and outputs, and give them descriptive names.\n",
    "\n",
    "Make sure that you:\n",
    "\n",
    "1. Are properly filtering the inputs and outputs of your invokations (e.g. `$.body`)\n",
    "2. Take care to remove the error handling from the last function - it's supposed to \"fail loudly\" for your operations colleagues!\n",
    "\n",
    "Take a screenshot of your working step function in action and export the step function as JSON for your submission package."
   ]
  },
  {
   "cell_type": "markdown",
   "metadata": {},
   "source": [
    "\n",
    "Great! Now you can use the files in `./test` as test files for our workflow. Depending on our threshold, our workflow should reliably pass predictions about images from `./test` on to downstream systems, while erroring out for inferences below our confidence threshold!\n",
    "\n",
    "### Testing and Evaluation\n",
    "\n",
    "Do several step function invokations using data from the `./test` folder. This process should give you confidence that the workflow both *succeeds* AND *fails* as expected. In addition, SageMaker Model Monitor will generate recordings of your data and inferences which we can visualize.\n",
    "\n",
    "Here's a function that can help you generate test inputs for your invokations:"
   ]
  },
  {
   "cell_type": "code",
   "execution_count": 88,
   "metadata": {
    "tags": []
   },
   "outputs": [
    {
     "data": {
      "text/plain": [
       "'{\"image_data\": \"\", \"s3_bucket\": \"sagemaker-us-east-1-761422902711\", \"s3_key\": \"test/motorcycle_s_000825.png\"}'"
      ]
     },
     "execution_count": 88,
     "metadata": {},
     "output_type": "execute_result"
    }
   ],
   "source": [
    "import random\n",
    "import boto3\n",
    "import json\n",
    "\n",
    "\n",
    "def generate_test_case():\n",
    "    # Setup s3 in boto3\n",
    "    s3 = boto3.resource('s3')\n",
    "    \n",
    "    # Randomly pick from sfn or test folders in our bucket\n",
    "    objects = s3.Bucket(bucket).objects.filter(Prefix=\"test\")\n",
    "    \n",
    "    # Grab any random object key from that folder!\n",
    "    obj = random.choice([x.key for x in objects])\n",
    "    \n",
    "    return json.dumps({\n",
    "        \"image_data\": \"\",\n",
    "        \"s3_bucket\": bucket,\n",
    "        \"s3_key\": obj\n",
    "    })\n",
    "\n",
    "generate_test_case()"
   ]
  },
  {
   "cell_type": "markdown",
   "metadata": {},
   "source": [
    "In the Step Function dashboard for your new function, you can create new executions and copy in the generated test cases. Do several executions so that you can generate data you can evaluate and visualize.\n",
    "\n",
    "Once you've done several executions, let's visualize the record of our inferences. Pull in the JSONLines data from your inferences like so:"
   ]
  },
  {
   "cell_type": "code",
   "execution_count": 89,
   "metadata": {
    "tags": []
   },
   "outputs": [],
   "source": [
    "from sagemaker.s3 import S3Downloader\n",
    "\n",
    "# In S3 your data will be saved to a datetime-aware path\n",
    "# Find a path related to a datetime you're interested in\n",
    "data_path = \"s3://sagemaker-us-east-1-761422902711/data_capture/image-classification-2023-01-01-21-28-45-483/AllTraffic/2023/01/01/21/34-19-236-10e6b489-2a96-47bd-b3a0-fd60ee41c248.jsonl\"\n",
    "S3Downloader.download(data_path, \"captured_data\")\n",
    "\n",
    "# Feel free to repeat this multiple times and pull in more data"
   ]
  },
  {
   "cell_type": "code",
   "execution_count": 90,
   "metadata": {
    "tags": []
   },
   "outputs": [],
   "source": [
    "#Downloading the other data capture folders as well\n",
    "data_path = \"s3://sagemaker-us-east-1-761422902711/data_capture/image-classification-2023-01-01-21-28-45-483/AllTraffic/2023/01/02/00/46-54-894-93fad810-f802-42c9-906d-a67b817f173b.jsonl\"\n",
    "S3Downloader.download(data_path, \"captured_data\")\n",
    "\n",
    "data_path = \"s3://sagemaker-us-east-1-761422902711/data_capture/image-classification-2023-01-01-21-28-45-483/AllTraffic/2023/01/02/00/49-31-767-fbee8621-a631-4785-bb78-2855ceb0fe71.jsonl\"\n",
    "S3Downloader.download(data_path, \"captured_data\")\n",
    "\n",
    "data_path = \"s3://sagemaker-us-east-1-761422902711/data_capture/image-classification-2023-01-01-21-28-45-483/AllTraffic/2023/01/02/01/15-07-412-53e82862-44ad-42cb-8e51-85ad0241c26b.jsonl\"\n",
    "S3Downloader.download(data_path, \"captured_data\")\n",
    "\n",
    "data_path = \"s3://sagemaker-us-east-1-761422902711/data_capture/image-classification-2023-01-01-21-28-45-483/AllTraffic/2023/01/02/01/16-11-092-b82ade5d-1533-4e8d-9260-f66bcc7295f1.jsonl\"\n",
    "S3Downloader.download(data_path, \"captured_data\")\n",
    "\n",
    "data_path = \"s3://sagemaker-us-east-1-761422902711/data_capture/image-classification-2023-01-01-21-28-45-483/AllTraffic/2023/01/02/01/17-11-361-f09c669c-cf84-4bdb-8f99-e64588d1626e.jsonl\"\n",
    "S3Downloader.download(data_path, \"captured_data\")"
   ]
  },
  {
   "cell_type": "markdown",
   "metadata": {},
   "source": [
    "The data are in JSONLines format, where multiple valid JSON objects are stacked on top of eachother in a single `jsonl` file. We'll import an open-source library, `jsonlines` that was purpose built for parsing this format."
   ]
  },
  {
   "cell_type": "code",
   "execution_count": 91,
   "metadata": {
    "tags": []
   },
   "outputs": [
    {
     "name": "stdout",
     "output_type": "stream",
     "text": [
      "Keyring is skipped due to an exception: 'keyring.backends'\n",
      "Requirement already satisfied: jsonlines in /opt/conda/lib/python3.7/site-packages (3.1.0)\n",
      "Requirement already satisfied: typing-extensions in /opt/conda/lib/python3.7/site-packages (from jsonlines) (4.4.0)\n",
      "Requirement already satisfied: attrs>=19.2.0 in /opt/conda/lib/python3.7/site-packages (from jsonlines) (22.1.0)\n",
      "\u001b[33mWARNING: Running pip as the 'root' user can result in broken permissions and conflicting behaviour with the system package manager. It is recommended to use a virtual environment instead: https://pip.pypa.io/warnings/venv\u001b[0m\u001b[33m\n",
      "\u001b[0m"
     ]
    }
   ],
   "source": [
    "!pip install jsonlines\n",
    "import jsonlines"
   ]
  },
  {
   "cell_type": "markdown",
   "metadata": {},
   "source": [
    "Now we can extract the data from each of the source files:"
   ]
  },
  {
   "cell_type": "code",
   "execution_count": 92,
   "metadata": {
    "tags": []
   },
   "outputs": [
    {
     "name": "stdout",
     "output_type": "stream",
     "text": [
      "['16-11-092-b82ade5d-1533-4e8d-9260-f66bcc7295f1.jsonl', '17-11-361-f09c669c-cf84-4bdb-8f99-e64588d1626e.jsonl', '49-31-767-fbee8621-a631-4785-bb78-2855ceb0fe71.jsonl', '15-07-412-53e82862-44ad-42cb-8e51-85ad0241c26b.jsonl', '34-19-236-10e6b489-2a96-47bd-b3a0-fd60ee41c248.jsonl', '46-54-894-93fad810-f802-42c9-906d-a67b817f173b.jsonl']\n"
     ]
    }
   ],
   "source": [
    "import os\n",
    "\n",
    "# List the file names we downloaded\n",
    "file_handles = os.listdir(\"./captured_data\")\n",
    "print(file_handles)\n",
    "\n",
    "# Dump all the data into an array\n",
    "json_data = []\n",
    "for jsonl in file_handles:\n",
    "    with jsonlines.open(f\"./captured_data/{jsonl}\") as f:\n",
    "        json_data.append(f.read())"
   ]
  },
  {
   "cell_type": "markdown",
   "metadata": {},
   "source": [
    "The data should now be a list of dictionaries, with significant nesting. We'll give you an example of some code that grabs data out of the objects and visualizes it:"
   ]
  },
  {
   "cell_type": "code",
   "execution_count": 93,
   "metadata": {
    "tags": []
   },
   "outputs": [
    {
     "data": {
      "text/plain": [
       "([9.255377517547458e-05, 0.9999074935913086], '2023-01-02T01:16:11Z')"
      ]
     },
     "execution_count": 93,
     "metadata": {},
     "output_type": "execute_result"
    }
   ],
   "source": [
    "# Define how we'll get our data\n",
    "def simple_getter(obj):\n",
    "    inferences = obj[\"captureData\"][\"endpointOutput\"][\"data\"]\n",
    "    timestamp = obj[\"eventMetadata\"][\"inferenceTime\"]\n",
    "    return json.loads(inferences), timestamp\n",
    "\n",
    "simple_getter(json_data[0])"
   ]
  },
  {
   "cell_type": "markdown",
   "metadata": {},
   "source": [
    "Finally, here's an example of a visualization you can build with this data. In this last part, you will take some time and build your own - the captured data has the input images, the resulting inferences, and the timestamps."
   ]
  },
  {
   "cell_type": "code",
   "execution_count": 94,
   "metadata": {
    "tags": []
   },
   "outputs": [],
   "source": [
    "import matplotlib.pyplot as plt"
   ]
  },
  {
   "cell_type": "code",
   "execution_count": 102,
   "metadata": {
    "tags": []
   },
   "outputs": [
    {
     "data": {
      "image/png": "[encoded data removed]",
      "text/plain": [
       "<Figure size 640x480 with 1 Axes>"
      ]
     },
     "metadata": {},
     "output_type": "display_data"
    }
   ],
   "source": [
    "%matplotlib inline\n",
    "# Populate the data for the x and y axis\n",
    "x = []\n",
    "y = []\n",
    "for obj in json_data:\n",
    "    inference, timestamp = simple_getter(obj)\n",
    "    \n",
    "    y.append(max(inference))\n",
    "    x.append(timestamp)\n",
    "\n",
    "# Todo: here is an visualization example, take some time to build another visual that helps monitor the result\n",
    "# Plot the data\n",
    "plt.scatter(x, y, c=['r' if k<.94 else 'b' for k in y ])\n",
    "plt.axhline(y=0.95, color='g', linestyle='--')\n",
    "plt.ylim(bottom=.60)\n",
    "\n",
    "# Add labels\n",
    "plt.ylabel(\"Confidence\")\n",
    "plt.suptitle(\"Observed Recent Inferences\", size=14)\n",
    "plt.title(\"Pictured with confidence threshold for production use\", size=10)\n",
    "\n",
    "# Give it some pizzaz!\n",
    "plt.style.use(\"Solarize_Light2\")\n",
    "plt.gcf().autofmt_xdate()"
   ]
  },
  {
   "cell_type": "markdown",
   "metadata": {},
   "source": [
    "### Todo: build your own visualization\n"
   ]
  },
  {
   "cell_type": "code",
   "execution_count": 103,
   "metadata": {
    "tags": []
   },
   "outputs": [
    {
     "data": {
      "image/png": "[encoded data removed]",
      "text/plain": [
       "<Figure size 1500x500 with 1 Axes>"
      ]
     },
     "metadata": {},
     "output_type": "display_data"
    }
   ],
   "source": [
    "%matplotlib inline\n",
    "plt.figure(figsize=(15,5))\n",
    "plt.plot(x, y, lw = 2, color = 'violet', alpha = 1)    \n",
    "plt.suptitle(\"Observed Recent Inferences\", size=14)\n",
    "plt.xlabel(\"Number of Inference\")\n",
    "plt.ylabel(\"Confidence\")\n",
    "plt.style.use( 'seaborn-dark')\n",
    "plt.gcf().autofmt_xdate()"
   ]
  },
  {
   "cell_type": "markdown",
   "metadata": {},
   "source": [
    "### Congratulations!\n",
    "\n",
    "You've reached the end of the project. In this project you created an event-drivent ML workflow that can be incorporated into the Scones Unlimited production architecture. You used the SageMaker Estimator API to deploy your SageMaker Model and Endpoint, and you used AWS Lambda and Step Functions to orchestrate your ML workflow. Using SageMaker Model Monitor, you instrumented and observed your Endpoint, and at the end of the project you built a visualization to help stakeholders understand the performance of the Endpoint over time. If you're up for it, you can even go further with these stretch goals:\n",
    "\n",
    "* Extend your workflow to incorporate more classes: the CIFAR dataset includes other vehicles that Scones Unlimited can identify with this model.\n",
    "* Modify your event driven workflow: can you rewrite your Lambda functions so that the workflow can process multiple image inputs in parallel? Can the Step Function \"fan out\" to accomodate this new workflow?\n",
    "* Consider the test data generator we provided for you. Can we use it to create a \"dummy data\" generator, to simulate a continuous stream of input data? Or a big paralell load of data?\n",
    "* What if we want to get notified every time our step function errors out? Can we use the Step Functions visual editor in conjunction with a service like SNS to accomplish this? Try it out!\n",
    "\n",
    "\n"
   ]
  }
 ],
 "metadata": {
  "instance_type": "ml.t3.medium",
  "kernelspec": {
   "display_name": "Python 3 (Data Science)",
   "language": "python",
   "name": "python3__SAGEMAKER_INTERNAL__arn:aws:sagemaker:us-east-1:081325390199:image/datascience-1.0"
  },
  "language_info": {
   "codemirror_mode": {
    "name": "ipython",
    "version": 3
   },
   "file_extension": ".py",
   "mimetype": "text/x-python",
   "name": "python",
   "nbconvert_exporter": "python",
   "pygments_lexer": "ipython3",
   "version": "3.7.10"
  }
 },
 "nbformat": 4,
 "nbformat_minor": 4
}
